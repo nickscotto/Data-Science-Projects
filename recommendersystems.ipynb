{
 "cells": [
  {
   "cell_type": "markdown",
   "id": "1b0d3497-6394-4bfd-bd28-55fe52128129",
   "metadata": {},
   "source": [
    "# Recommender System"
   ]
  },
  {
   "cell_type": "markdown",
   "id": "4c4acb12-adb7-45ed-83d0-feb300aa369b",
   "metadata": {
    "tags": []
   },
   "source": [
    "## Part 1: Descriptive Statistics and Plots"
   ]
  },
  {
   "cell_type": "markdown",
   "id": "52179bb0-bc5a-43cc-a411-b7d986aa06c0",
   "metadata": {},
   "source": [
    "### Installing packages"
   ]
  },
  {
   "cell_type": "code",
   "execution_count": 2,
   "id": "f37cd1c3-e364-4501-b69f-ab81579f2630",
   "metadata": {},
   "outputs": [
    {
     "name": "stdout",
     "output_type": "stream",
     "text": [
      "Requirement already satisfied: scikit.surprise in c:\\users\\shifr\\anaconda3\\lib\\site-packages (1.1.2)\n",
      "Requirement already satisfied: numpy>=1.17.3 in c:\\users\\shifr\\anaconda3\\lib\\site-packages (from scikit.surprise) (1.20.3)\n",
      "Requirement already satisfied: scipy>=1.3.2 in c:\\users\\shifr\\anaconda3\\lib\\site-packages (from scikit.surprise) (1.7.1)\n",
      "Requirement already satisfied: joblib>=1.0.0 in c:\\users\\shifr\\anaconda3\\lib\\site-packages (from scikit.surprise) (1.1.0)\n",
      "Note: you may need to restart the kernel to use updated packages.\n"
     ]
    }
   ],
   "source": [
    "pip install scikit.surprise"
   ]
  },
  {
   "cell_type": "code",
   "execution_count": 3,
   "id": "d7f196b7-6b73-47d5-a5b3-a1154bcef08a",
   "metadata": {},
   "outputs": [],
   "source": [
    "import numpy as np\n",
    "import pandas as pd\n",
    "import seaborn as sns\n",
    "from surprise import Dataset\n",
    "from surprise import Reader\n",
    "from surprise import NormalPredictor\n",
    "from surprise import SVD, SVDpp, NMF\n",
    "from surprise.model_selection import cross_validate\n",
    "import matplotlib.pyplot as plt\n",
    "import collections\n",
    "from surprise.model_selection import cross_validate, RandomizedSearchCV, GridSearchCV\n",
    "from surprise import KNNWithMeans, KNNBasic, KNNWithZScore, KNNBaseline"
   ]
  },
  {
   "cell_type": "markdown",
   "id": "d0197072-1b6b-4a80-bf79-a8b2bb09b5e5",
   "metadata": {},
   "source": [
    "### Read in the dataset"
   ]
  },
  {
   "cell_type": "code",
   "execution_count": 4,
   "id": "91b9d80e-f52a-4ba4-8b9a-3e26628d1690",
   "metadata": {},
   "outputs": [],
   "source": [
    "df = pd.read_csv('ratings.csv')"
   ]
  },
  {
   "cell_type": "code",
   "execution_count": 5,
   "id": "a654cf02-1dc5-4000-81e6-18e033007963",
   "metadata": {},
   "outputs": [
    {
     "data": {
      "text/html": [
       "<div>\n",
       "<style scoped>\n",
       "    .dataframe tbody tr th:only-of-type {\n",
       "        vertical-align: middle;\n",
       "    }\n",
       "\n",
       "    .dataframe tbody tr th {\n",
       "        vertical-align: top;\n",
       "    }\n",
       "\n",
       "    .dataframe thead th {\n",
       "        text-align: right;\n",
       "    }\n",
       "</style>\n",
       "<table border=\"1\" class=\"dataframe\">\n",
       "  <thead>\n",
       "    <tr style=\"text-align: right;\">\n",
       "      <th></th>\n",
       "      <th>userId</th>\n",
       "      <th>movieId</th>\n",
       "      <th>rating</th>\n",
       "      <th>timestamp</th>\n",
       "    </tr>\n",
       "  </thead>\n",
       "  <tbody>\n",
       "    <tr>\n",
       "      <th>0</th>\n",
       "      <td>1</td>\n",
       "      <td>307</td>\n",
       "      <td>3.5</td>\n",
       "      <td>1256677221</td>\n",
       "    </tr>\n",
       "    <tr>\n",
       "      <th>1</th>\n",
       "      <td>1</td>\n",
       "      <td>481</td>\n",
       "      <td>3.5</td>\n",
       "      <td>1256677456</td>\n",
       "    </tr>\n",
       "    <tr>\n",
       "      <th>2</th>\n",
       "      <td>1</td>\n",
       "      <td>1091</td>\n",
       "      <td>1.5</td>\n",
       "      <td>1256677471</td>\n",
       "    </tr>\n",
       "    <tr>\n",
       "      <th>3</th>\n",
       "      <td>1</td>\n",
       "      <td>1257</td>\n",
       "      <td>4.5</td>\n",
       "      <td>1256677460</td>\n",
       "    </tr>\n",
       "    <tr>\n",
       "      <th>4</th>\n",
       "      <td>1</td>\n",
       "      <td>1449</td>\n",
       "      <td>4.5</td>\n",
       "      <td>1256677264</td>\n",
       "    </tr>\n",
       "  </tbody>\n",
       "</table>\n",
       "</div>"
      ],
      "text/plain": [
       "   userId  movieId  rating   timestamp\n",
       "0       1      307     3.5  1256677221\n",
       "1       1      481     3.5  1256677456\n",
       "2       1     1091     1.5  1256677471\n",
       "3       1     1257     4.5  1256677460\n",
       "4       1     1449     4.5  1256677264"
      ]
     },
     "metadata": {},
     "output_type": "display_data"
    },
    {
     "data": {
      "text/html": [
       "<div>\n",
       "<style scoped>\n",
       "    .dataframe tbody tr th:only-of-type {\n",
       "        vertical-align: middle;\n",
       "    }\n",
       "\n",
       "    .dataframe tbody tr th {\n",
       "        vertical-align: top;\n",
       "    }\n",
       "\n",
       "    .dataframe thead th {\n",
       "        text-align: right;\n",
       "    }\n",
       "</style>\n",
       "<table border=\"1\" class=\"dataframe\">\n",
       "  <thead>\n",
       "    <tr style=\"text-align: right;\">\n",
       "      <th></th>\n",
       "      <th>userId</th>\n",
       "      <th>movieId</th>\n",
       "      <th>rating</th>\n",
       "      <th>timestamp</th>\n",
       "    </tr>\n",
       "  </thead>\n",
       "  <tbody>\n",
       "    <tr>\n",
       "      <th>27753439</th>\n",
       "      <td>283228</td>\n",
       "      <td>8542</td>\n",
       "      <td>4.5</td>\n",
       "      <td>1379882795</td>\n",
       "    </tr>\n",
       "    <tr>\n",
       "      <th>27753440</th>\n",
       "      <td>283228</td>\n",
       "      <td>8712</td>\n",
       "      <td>4.5</td>\n",
       "      <td>1379882751</td>\n",
       "    </tr>\n",
       "    <tr>\n",
       "      <th>27753441</th>\n",
       "      <td>283228</td>\n",
       "      <td>34405</td>\n",
       "      <td>4.5</td>\n",
       "      <td>1379882889</td>\n",
       "    </tr>\n",
       "    <tr>\n",
       "      <th>27753442</th>\n",
       "      <td>283228</td>\n",
       "      <td>44761</td>\n",
       "      <td>4.5</td>\n",
       "      <td>1354159524</td>\n",
       "    </tr>\n",
       "    <tr>\n",
       "      <th>27753443</th>\n",
       "      <td>283228</td>\n",
       "      <td>54286</td>\n",
       "      <td>4.5</td>\n",
       "      <td>1354159718</td>\n",
       "    </tr>\n",
       "  </tbody>\n",
       "</table>\n",
       "</div>"
      ],
      "text/plain": [
       "          userId  movieId  rating   timestamp\n",
       "27753439  283228     8542     4.5  1379882795\n",
       "27753440  283228     8712     4.5  1379882751\n",
       "27753441  283228    34405     4.5  1379882889\n",
       "27753442  283228    44761     4.5  1354159524\n",
       "27753443  283228    54286     4.5  1354159718"
      ]
     },
     "metadata": {},
     "output_type": "display_data"
    }
   ],
   "source": [
    "display(df.head(), df.tail())"
   ]
  },
  {
   "cell_type": "code",
   "execution_count": 6,
   "id": "6b37d097-0da9-4423-a973-2a1a2ac17108",
   "metadata": {},
   "outputs": [
    {
     "name": "stdout",
     "output_type": "stream",
     "text": [
      "Missing values: 0.0%\n",
      "Unique users: 283228\n",
      "Unique movies: 53889\n",
      "Total observations: 27753444\n"
     ]
    }
   ],
   "source": [
    "# Check for missing data\n",
    "\n",
    "percent_missing = df.isnull().sum() * 100 / len(df)\n",
    "unique_users = len(df['userId'].unique())\n",
    "unique_movie = len(df['movieId'].unique())\n",
    "Total_observations = len(df)\n",
    "\n",
    "print('Missing values: ' + str(round(percent_missing['rating'], 2)) + '%')\n",
    "print('Unique users: ' + str(unique_users))\n",
    "print('Unique movies: ' + str(unique_movie))\n",
    "print('Total observations: ' + str(Total_observations))"
   ]
  },
  {
   "cell_type": "code",
   "execution_count": 7,
   "id": "6ffac549-86a6-4357-8943-de08753be65b",
   "metadata": {},
   "outputs": [
    {
     "data": {
      "image/png": "[encoded data removed]",
      "text/plain": [
       "<Figure size 576x396 with 1 Axes>"
      ]
     },
     "metadata": {
      "needs_background": "light"
     },
     "output_type": "display_data"
    }
   ],
   "source": [
    "# Count how many times each movie is observed with a probability density function\n",
    "\n",
    "def plot_density(df):\n",
    "    fig, ax = plt.subplots(figsize=(8,5.5))\n",
    "    plot = sns.histplot(df['movieId'], kde=True, ax=ax)\n",
    "    plt.ylim(0,400000)\n",
    "    \n",
    "plot_density(df)\n",
    "\n",
    "# we can clearly see that roughly 10.000 movies are getting almost all of the ratings"
   ]
  },
  {
   "cell_type": "code",
   "execution_count": 8,
   "id": "dc03fbc5-65c3-40bf-9ab4-e7670fc42224",
   "metadata": {},
   "outputs": [
    {
     "data": {
      "text/plain": [
       "Text(0.5, 1.0, 'Number of movies rated per user')"
      ]
     },
     "execution_count": 8,
     "metadata": {},
     "output_type": "execute_result"
    },
    {
     "data": {
      "image/png": "[encoded data removed]",
      "text/plain": [
       "<Figure size 432x288 with 1 Axes>"
      ]
     },
     "metadata": {
      "needs_background": "light"
     },
     "output_type": "display_data"
    }
   ],
   "source": [
    "# Check the number of movies that each user rated\n",
    "ratings_per_user = df.groupby(\"userId\").count()[\"movieId\"]\n",
    "\n",
    "ax = df.groupby(\"userId\").count()[\"movieId\"].plot()\n",
    "ax.set_ylabel(\"Number of ratings\")\n",
    "ax.set_xlabel(\"User ID\")\n",
    "ax.set_title('Number of movies rated per user')\n",
    "\n",
    "# Disadvantage is that some users rated too many (23715 movies for one user), it is hard to show the users that rated small number of movies."
   ]
  },
  {
   "cell_type": "code",
   "execution_count": 9,
   "id": "7f328a3f-a2e3-4bdb-9b4c-f09a0a34a441",
   "metadata": {},
   "outputs": [
    {
     "data": {
      "image/png": "[encoded data removed]",
      "text/plain": [
       "<Figure size 576x396 with 1 Axes>"
      ]
     },
     "metadata": {
      "needs_background": "light"
     },
     "output_type": "display_data"
    }
   ],
   "source": [
    "# Plotting the relative frequency of the top 10000 movies\n",
    "\n",
    "def plot_frequency(df, k):\n",
    "    \n",
    "    fig, ax = plt.subplots(figsize=(8,5.5))\n",
    "    counts = df['movieId'].value_counts(sort=True, ascending=False)\n",
    "    orig = counts.index.tolist()\n",
    "    counts2 = counts.reset_index(inplace=False, drop=True)\n",
    "    sub = counts2.index.tolist()\n",
    "\n",
    "    sns.lineplot(x=counts2.index[0:k], y=counts2[0:k]/counts2[0:k].sum(), ax=ax)\n",
    "    ax.fill_between(counts2.index[0:k], counts2[0:k]/counts2[0:k].sum(), alpha=0.5)\n",
    "    ax.set_ylabel(\"Relative frequency\")\n",
    "    ax.set_xlabel(\"Top-k\")\n",
    "    ax.set_title('Relative frequency of the top 10000 movies')\n",
    "\n",
    "plot_frequency(df, k=10000)\n"
   ]
  },
  {
   "cell_type": "code",
   "execution_count": 10,
   "id": "7f499125-2d7d-4799-9aeb-5dd59988670e",
   "metadata": {},
   "outputs": [
    {
     "name": "stdout",
     "output_type": "stream",
     "text": [
      "318     97999\n",
      "356     97040\n",
      "296     92406\n",
      "593     87899\n",
      "2571    84545\n",
      "Name: movieId, dtype: int64\n",
      "165077    1\n",
      "172453    1\n",
      "192975    1\n",
      "167092    1\n",
      "142855    1\n",
      "Name: movieId, dtype: int64\n"
     ]
    }
   ],
   "source": [
    "# Showing the most and least rated movies\n",
    "\n",
    "movie_count = df['movieId'].value_counts()\n",
    "print(movie_count.head())\n",
    "print(movie_count.tail())"
   ]
  },
  {
   "cell_type": "code",
   "execution_count": 11,
   "id": "fc39d8df-cdb7-4878-91da-f528a73e7f5b",
   "metadata": {},
   "outputs": [
    {
     "data": {
      "image/png": "[encoded data removed]",
      "text/plain": [
       "<Figure size 576x396 with 1 Axes>"
      ]
     },
     "metadata": {
      "needs_background": "light"
     },
     "output_type": "display_data"
    }
   ],
   "source": [
    "# Plotting the relative frequency of the top 10000 users\n",
    "\n",
    "def plot_frequency(df, k):\n",
    "    \n",
    "    fig, ax = plt.subplots(figsize=(8,5.5))\n",
    "    counts = df['userId'].value_counts(sort=True, ascending=False)\n",
    "    orig = counts.index.tolist()\n",
    "    counts2 = counts.reset_index(inplace=False, drop=True)\n",
    "    sub = counts2.index.tolist()\n",
    "\n",
    "    sns.lineplot(x=counts2.index[0:k], y=counts2[0:k]/counts2[0:k].sum(), ax=ax)\n",
    "    ax.fill_between(counts2.index[0:k], counts2[0:k]/counts2[0:k].sum(), alpha=0.5)\n",
    "    ax.set_ylabel(\"Relative frequency\")\n",
    "    ax.set_xlabel(\"Top-k\")\n",
    "    ax.set_title('Relative frequency of the top 10000 users')\n",
    "\n",
    "plot_frequency(df, k=10000)"
   ]
  },
  {
   "cell_type": "code",
   "execution_count": 12,
   "id": "3aa1012c-5a23-423b-8975-d57ce618b262",
   "metadata": {},
   "outputs": [
    {
     "name": "stdout",
     "output_type": "stream",
     "text": [
      "123100    23715\n",
      "117490     9279\n",
      "134596     8381\n",
      "212343     7884\n",
      "242683     7515\n",
      "Name: userId, dtype: int64\n",
      "188125    1\n",
      "117282    1\n",
      "127062    1\n",
      "241836    1\n",
      "265726    1\n",
      "Name: userId, dtype: int64\n"
     ]
    }
   ],
   "source": [
    "# Showing the users who rated the most and least number of movies\n",
    "\n",
    "user_count = df['userId'].value_counts()\n",
    "print(user_count.head())\n",
    "print(user_count.tail())"
   ]
  },
  {
   "cell_type": "code",
   "execution_count": 13,
   "id": "9f41721d-0a8e-4978-9aef-95ae4ffe1587",
   "metadata": {},
   "outputs": [
    {
     "data": {
      "text/plain": [
       "(0.0, 900000.0)"
      ]
     },
     "execution_count": 13,
     "metadata": {},
     "output_type": "execute_result"
    },
    {
     "data": {
      "image/png": "[encoded data removed]",
      "text/plain": [
       "<Figure size 432x288 with 1 Axes>"
      ]
     },
     "metadata": {
      "needs_background": "light"
     },
     "output_type": "display_data"
    }
   ],
   "source": [
    "# Frequency for each rating\n",
    "\n",
    "rating_count = df[\"rating\"].value_counts().sort_index()\n",
    "ax = rating_count.plot(kind=\"bar\")\n",
    "ax.set_xlabel('Movie Rating')\n",
    "ax.set_ylabel('Count')\n",
    "ax.set_title('Frequencies of ratings')\n",
    "ax.set_ylim(0,900000)\n",
    "\n",
    "# Most people give fours, fewest give 1.5."
   ]
  },
  {
   "cell_type": "code",
   "execution_count": 14,
   "id": "7178d110-0613-44cb-a9b5-4ac014fd20a3",
   "metadata": {},
   "outputs": [
    {
     "name": "stdout",
     "output_type": "stream",
     "text": [
      "The top 1% movies are responsible for 46% of all ratings\n"
     ]
    }
   ],
   "source": [
    "movie_count = collections.Counter(df['movieId'])\n",
    "movie_count = pd.DataFrame({'movieId':list(movie_count), 'rating': movie_count.values()}).sort_values('rating',ascending=False)\n",
    "top_1_pct = round((unique_movie * 0.01))\n",
    "top_1_pct\n",
    "popular_1_pct = movie_count.rating[0:top_1_pct].sum()\n",
    "percentage_1_pct = round(100*popular_1_pct/Total_observations)\n",
    "\n",
    "print('The top 1% movies are responsible for ' + str(percentage_1_pct) + '% of all ratings')\n",
    "\n",
    "# Hence we could select fewer than 5000 movies, as we are keeping many ratings and data still"
   ]
  },
  {
   "cell_type": "markdown",
   "id": "338f5d91-2716-4735-ab4a-2c733bef7cfb",
   "metadata": {},
   "source": []
  },
  {
   "cell_type": "markdown",
   "id": "1afcfd79-34b4-415a-bab5-8e977016f021",
   "metadata": {
    "tags": []
   },
   "source": [
    "## Part 2: Data Pre-processing"
   ]
  },
  {
   "cell_type": "code",
   "execution_count": 15,
   "id": "354e16c8-a3b5-4eee-bedd-9d6cc02f312a",
   "metadata": {},
   "outputs": [
    {
     "data": {
      "text/plain": [
       "0.25     2.0\n",
       "0.75    48.0\n",
       "Name: userId, dtype: float64"
      ]
     },
     "execution_count": 15,
     "metadata": {},
     "output_type": "execute_result"
    }
   ],
   "source": [
    "# Checking the IQR of how many movies the users rated\n",
    "user_ratings = df.groupby(\"movieId\").count()[\"userId\"]\n",
    "\n",
    "user_ratings.quantile([0.25, 0.75])"
   ]
  },
  {
   "cell_type": "code",
   "execution_count": 16,
   "id": "fbb0ea78-0340-4932-8145-0947c9007f31",
   "metadata": {},
   "outputs": [
    {
     "data": {
      "text/plain": [
       "count    53889.000000\n",
       "mean       515.011301\n",
       "std       2934.758939\n",
       "min          1.000000\n",
       "25%          2.000000\n",
       "50%          7.000000\n",
       "75%         48.000000\n",
       "max      97999.000000\n",
       "Name: userId, dtype: float64"
      ]
     },
     "execution_count": 16,
     "metadata": {},
     "output_type": "execute_result"
    }
   ],
   "source": [
    "user_ratings.describe()"
   ]
  },
  {
   "cell_type": "code",
   "execution_count": 17,
   "id": "bca5b128-17fd-4981-ac98-2102ae411c85",
   "metadata": {},
   "outputs": [
    {
     "data": {
      "image/png": "[encoded data removed]",
      "text/plain": [
       "<Figure size 432x288 with 1 Axes>"
      ]
     },
     "metadata": {
      "needs_background": "light"
     },
     "output_type": "display_data"
    }
   ],
   "source": [
    "# Boxplot\n",
    "\n",
    "plt.boxplot(user_ratings, showfliers=False)\n",
    "plt.xlabel('Ratings dataset')\n",
    "plt.ylabel('Movie ratings count')\n",
    "plt.title('Boxplot showing spread of ratings per user')\n",
    "plt.tick_params(axis='x', which='both', bottom=False,labelbottom=False)"
   ]
  },
  {
   "cell_type": "code",
   "execution_count": 18,
   "id": "729ce254-2880-456f-a3c0-34286aa241d8",
   "metadata": {},
   "outputs": [],
   "source": [
    "# Cutting users who rated more than 48 or less than 2 movies\n",
    "\n",
    "user_counts = df['userId'].value_counts()\n",
    "to_remove = user_counts[user_counts > 48].index\n",
    "df = df[~df['userId'].isin(to_remove)]\n",
    "\n",
    "new_movie_count = df['userId'].value_counts()"
   ]
  },
  {
   "cell_type": "code",
   "execution_count": 19,
   "id": "fed78e02-a857-4f32-b1fe-5d339e1b9fb5",
   "metadata": {},
   "outputs": [],
   "source": [
    "user_counts = df['userId'].value_counts()\n",
    "to_remove = user_counts[user_counts < 2].index\n",
    "df = df[~df['userId'].isin(to_remove)]\n",
    "\n",
    "new_movie_count = df['userId'].value_counts()"
   ]
  },
  {
   "cell_type": "code",
   "execution_count": 20,
   "id": "efc0d884-3bdf-4318-aca2-6b14f575e3c0",
   "metadata": {},
   "outputs": [
    {
     "name": "stdout",
     "output_type": "stream",
     "text": [
      "100415    48\n",
      "255429    48\n",
      "253645    48\n",
      "25571     48\n",
      "158855    48\n",
      "Name: userId, dtype: int64\n",
      "156099    2\n",
      "182568    2\n",
      "234349    2\n",
      "156087    2\n",
      "102447    2\n",
      "Name: userId, dtype: int64\n"
     ]
    }
   ],
   "source": [
    "user_counts = df['userId'].value_counts()\n",
    "print(user_counts.head())\n",
    "print(user_counts.tail())"
   ]
  },
  {
   "cell_type": "code",
   "execution_count": 21,
   "id": "a591ed19-6baf-4798-96ae-fbccd21e862a",
   "metadata": {},
   "outputs": [
    {
     "name": "stdout",
     "output_type": "stream",
     "text": [
      "Unique users: 166662\n",
      "Unique movies: 19071\n",
      "Total observations: 3186498\n",
      "(3186498, 4) 12745992\n",
      "   userId  movieId  rating   timestamp\n",
      "0       1      307     3.5  1256677221\n",
      "1       1      481     3.5  1256677456\n",
      "2       1     1091     1.5  1256677471\n",
      "3       1     1257     4.5  1256677460\n",
      "4       1     1449     4.5  1256677264\n"
     ]
    }
   ],
   "source": [
    "# Descriptive statistics of updated dataset\n",
    "\n",
    "unique_users = len(df['userId'].unique())\n",
    "unique_movie = len(df['movieId'].unique())\n",
    "Total_observations = len(df)\n",
    "\n",
    "print('Unique users: ' + str(unique_users))\n",
    "print('Unique movies: ' + str(unique_movie))\n",
    "print('Total observations: ' + str(Total_observations))\n",
    "\n",
    "print(df.shape, df.size)\n",
    "print(df.head())"
   ]
  },
  {
   "cell_type": "code",
   "execution_count": 22,
   "id": "571fe962-81b4-4454-ac56-860665588cb2",
   "metadata": {},
   "outputs": [
    {
     "data": {
      "image/png": "[encoded data removed]",
      "text/plain": [
       "<Figure size 576x396 with 1 Axes>"
      ]
     },
     "metadata": {
      "needs_background": "light"
     },
     "output_type": "display_data"
    }
   ],
   "source": [
    "def plot_frequency(df, k):\n",
    "    \n",
    "    fig, ax = plt.subplots(figsize=(8,5.5))\n",
    "    counts = df['movieId'].value_counts(sort=True, ascending=False)\n",
    "    orig = counts.index.tolist()\n",
    "    counts2 = counts.reset_index(inplace=False, drop=True)\n",
    "    sub = counts2.index.tolist()\n",
    "\n",
    "    sns.lineplot(x=counts2.index[0:k], y=counts2[0:k]/counts2[0:k].sum(), ax=ax)\n",
    "    ax.fill_between(counts2.index[0:k], counts2[0:k]/counts2[0:k].sum(), alpha=0.5)\n",
    "    ax.set_ylabel(\"Relative frequency\")\n",
    "    ax.set_xlabel(\"Top-k\")\n",
    "    ax.set_title('Relative frequency of the top 10000 movies')\n",
    "\n",
    "plot_frequency(df, k=10000)"
   ]
  },
  {
   "cell_type": "code",
   "execution_count": 23,
   "id": "9001e277-2e44-4dc7-83e8-a5b188387b68",
   "metadata": {},
   "outputs": [
    {
     "data": {
      "image/png": "[encoded data removed]",
      "text/plain": [
       "<Figure size 576x396 with 1 Axes>"
      ]
     },
     "metadata": {
      "needs_background": "light"
     },
     "output_type": "display_data"
    }
   ],
   "source": [
    "def plot_frequency(df, k):\n",
    "    \n",
    "    fig, ax = plt.subplots(figsize=(8,5.5))\n",
    "    counts = df['userId'].value_counts(sort=True, ascending=False)\n",
    "    orig = counts.index.tolist()\n",
    "    counts2 = counts.reset_index(inplace=False, drop=True)\n",
    "    sub = counts2.index.tolist()\n",
    "\n",
    "    sns.lineplot(x=counts2.index[0:k], y=counts2[0:k]/counts2[0:k].sum(), ax=ax)\n",
    "    ax.fill_between(counts2.index[0:k], counts2[0:k]/counts2[0:k].sum(), alpha=0.5)\n",
    "    ax.set_ylabel(\"Relative frequency\")\n",
    "    ax.set_xlabel(\"Top-k\")\n",
    "    ax.set_title('Relative frequency of the top 20000 users')\n",
    "\n",
    "plot_frequency(df, k=20000)"
   ]
  },
  {
   "cell_type": "code",
   "execution_count": 24,
   "id": "3ae76251-0bd6-4884-b05a-f38ba437090b",
   "metadata": {},
   "outputs": [
    {
     "data": {
      "text/plain": [
       "Text(0.5, 1.0, 'Frequencies of ratings')"
      ]
     },
     "execution_count": 24,
     "metadata": {},
     "output_type": "execute_result"
    },
    {
     "data": {
      "image/png": "[encoded data removed]",
      "text/plain": [
       "<Figure size 432x288 with 1 Axes>"
      ]
     },
     "metadata": {
      "needs_background": "light"
     },
     "output_type": "display_data"
    }
   ],
   "source": [
    "rating_count = df[\"rating\"].value_counts().sort_index()\n",
    "ax = rating_count.plot(kind=\"bar\")\n",
    "ax.set_xlabel('Movie Rating')\n",
    "ax.set_ylabel('Count')\n",
    "ax.set_title('Frequencies of ratings')"
   ]
  },
  {
   "cell_type": "code",
   "execution_count": 25,
   "id": "46785eaf-9f38-4102-b257-6c6963dea1ca",
   "metadata": {},
   "outputs": [],
   "source": [
    "# Selecting top-k movies to run models on\n",
    "\n",
    "def select(df, k, col): \n",
    "\n",
    "    top_values = df[col].value_counts().nlargest(k)\n",
    "    return df.loc[df[col].isin(top_values.index)]"
   ]
  },
  {
   "cell_type": "code",
   "execution_count": 26,
   "id": "8f7d5949-f687-4684-baea-be0fde0062c8",
   "metadata": {},
   "outputs": [
    {
     "name": "stdout",
     "output_type": "stream",
     "text": [
      "Number of Users: 146509\n",
      "Number of Movies: 250\n",
      "Total observations: 3186498\n",
      "(1479475, 4) 5917900\n",
      "   userId  movieId  rating   timestamp\n",
      "0       1      307     3.5  1256677221\n",
      "1       1      481     3.5  1256677456\n",
      "2       1     1091     1.5  1256677471\n",
      "3       1     1257     4.5  1256677460\n",
      "4       1     1449     4.5  1256677264\n"
     ]
    }
   ],
   "source": [
    "# Descriptives of final dataset to be used\n",
    "\n",
    "df1 = select(df, k=250, col='movieId')  \n",
    "\n",
    "user_number = len(df1[\"userId\"].unique())\n",
    "movie_number = len(df1[\"movieId\"].unique())\n",
    "\n",
    "print('Number of Users: ' + str(user_number))\n",
    "print('Number of Movies: ' + str(movie_number))\n",
    "print('Total observations: ' + str(Total_observations))\n",
    "\n",
    "print(df1.shape, df1.size)\n",
    "print(df.head())"
   ]
  },
  {
   "cell_type": "code",
   "execution_count": 27,
   "id": "640c9768-5abd-4c2b-996a-99cd9fa74626",
   "metadata": {},
   "outputs": [
    {
     "data": {
      "image/png": "[encoded data removed]",
      "text/plain": [
       "<Figure size 576x396 with 1 Axes>"
      ]
     },
     "metadata": {
      "needs_background": "light"
     },
     "output_type": "display_data"
    }
   ],
   "source": [
    "def plot_frequency(df, k):\n",
    "    \n",
    "    fig, ax = plt.subplots(figsize=(8,5.5))\n",
    "    counts = df1['movieId'].value_counts(sort=True, ascending=False)\n",
    "    orig = counts.index.tolist()\n",
    "    counts2 = counts.reset_index(inplace=False, drop=True)\n",
    "    sub = counts2.index.tolist()\n",
    "\n",
    "    sns.lineplot(x=counts2.index[0:k], y=counts2[0:k]/counts2[0:k].sum(), ax=ax)\n",
    "    ax.fill_between(counts2.index[0:k], counts2[0:k]/counts2[0:k].sum(), alpha=0.5)\n",
    "    ax.set_ylabel(\"Relative frequency\")\n",
    "    ax.set_xlabel(\"Top-k\")\n",
    "    ax.set_title('Relative frequency of the top 300 movies')\n",
    "\n",
    "plot_frequency(df, k=300)"
   ]
  },
  {
   "cell_type": "code",
   "execution_count": 28,
   "id": "dcc1a7a4-eafb-410f-b454-14992a353cd6",
   "metadata": {},
   "outputs": [
    {
     "data": {
      "image/png": "[encoded data removed]",
      "text/plain": [
       "<Figure size 576x396 with 1 Axes>"
      ]
     },
     "metadata": {
      "needs_background": "light"
     },
     "output_type": "display_data"
    }
   ],
   "source": [
    "def plot_frequency(df, k):\n",
    "    \n",
    "    fig, ax = plt.subplots(figsize=(8,5.5))\n",
    "    counts = df1['userId'].value_counts(sort=True, ascending=False)\n",
    "    orig = counts.index.tolist()\n",
    "    counts2 = counts.reset_index(inplace=False, drop=True)\n",
    "    sub = counts2.index.tolist()\n",
    "\n",
    "    sns.lineplot(x=counts2.index[0:k], y=counts2[0:k]/counts2[0:k].sum(), ax=ax)\n",
    "    ax.fill_between(counts2.index[0:k], counts2[0:k]/counts2[0:k].sum(), alpha=0.5)\n",
    "    ax.set_ylabel(\"Relative frequency\")\n",
    "    ax.set_xlabel(\"Top-k\")\n",
    "    ax.set_title('Relative frequency of the top 20000 users')\n",
    "\n",
    "plot_frequency(df, k=20000)"
   ]
  },
  {
   "cell_type": "code",
   "execution_count": 29,
   "id": "8e89a1dc-ef65-4329-b03c-c93732f7e116",
   "metadata": {},
   "outputs": [
    {
     "data": {
      "text/plain": [
       "Text(0.5, 1.0, 'Frequencies of ratings')"
      ]
     },
     "execution_count": 29,
     "metadata": {},
     "output_type": "execute_result"
    },
    {
     "data": {
      "image/png": "[encoded data removed]",
      "text/plain": [
       "<Figure size 432x288 with 1 Axes>"
      ]
     },
     "metadata": {
      "needs_background": "light"
     },
     "output_type": "display_data"
    }
   ],
   "source": [
    "rating_count = df[\"rating\"].value_counts().sort_index()\n",
    "ax = rating_count.plot(kind=\"bar\")\n",
    "ax.set_xlabel('Movie Rating')\n",
    "ax.set_ylabel('Count')\n",
    "ax.set_title('Frequencies of ratings')"
   ]
  },
  {
   "cell_type": "code",
   "execution_count": 30,
   "id": "80b96cae-538c-459d-80df-c748b1f12e1e",
   "metadata": {},
   "outputs": [],
   "source": [
    "# Prepare data for running algorithms\n",
    "# Drop timestamp column as this does not contribute much\n",
    "\n",
    "reader = Reader(rating_scale=(0.5, 5))\n",
    "data = Dataset.load_from_df(df1[['userId', 'movieId', 'rating']], reader)\n",
    "\n"
   ]
  },
  {
   "cell_type": "markdown",
   "id": "d94f1143-ca61-4a1c-8000-6ed2e278dab4",
   "metadata": {},
   "source": [
    "As we can see from the graphs above the dataset is very top-heavy. That is the 'top' movies recieve an overwhelming ammount of ratings. So much so that the top 1% of movies account for 46% of the ratings. Focussing on the 'top' movies allows us to capture a lot of information of the dataset. It also makes sense to recommend movies that are already popular in terms of number of ratings. This indicates that people feel strongly about those movies and that they are getting watched a lot already. As was shown from the boxplot there are a lot of outliers regarding the users. Some users only rated 1 movie while others rated thousands. This really skews the mean. We decided to cut the bottom 25% percent (users that only rated 0 or 1 movies) and we cut the top 25% (users that rated more than 48 movies). This is in order to better approximate the 'avarage' user. \n"
   ]
  },
  {
   "cell_type": "markdown",
   "id": "aa4bc0b5-e598-43b3-9621-2b8ecc3ee3d2",
   "metadata": {},
   "source": [
    "## Part 3: Model Testing"
   ]
  },
  {
   "cell_type": "markdown",
   "id": "9f28aa33-d7aa-4378-984d-646494d4895b",
   "metadata": {},
   "source": [
    "## Baseline Model - Normal Predictor"
   ]
  },
  {
   "cell_type": "code",
   "execution_count": 31,
   "id": "4cec9965-c0f0-4290-8d29-b9f870b5e836",
   "metadata": {},
   "outputs": [
    {
     "name": "stdout",
     "output_type": "stream",
     "text": [
      "Time to run: 95.72892332077026\n"
     ]
    }
   ],
   "source": [
    "# Cross validation with baseline predictor\n",
    "import time\n",
    "\n",
    "start = time.time()\n",
    "norm_pred = cross_validate(NormalPredictor(), data, cv=5, return_train_measures=True)\n",
    "end = time.time()\n",
    "time_it_took_norm = end-start\n",
    "print('Time to run: ' + str(time_it_took_norm))"
   ]
  },
  {
   "cell_type": "code",
   "execution_count": 32,
   "id": "89aa0631-a6f3-43e1-8c58-aad0470311ca",
   "metadata": {},
   "outputs": [
    {
     "data": {
      "text/html": [
       "<div>\n",
       "<style scoped>\n",
       "    .dataframe tbody tr th:only-of-type {\n",
       "        vertical-align: middle;\n",
       "    }\n",
       "\n",
       "    .dataframe tbody tr th {\n",
       "        vertical-align: top;\n",
       "    }\n",
       "\n",
       "    .dataframe thead th {\n",
       "        text-align: right;\n",
       "    }\n",
       "</style>\n",
       "<table border=\"1\" class=\"dataframe\">\n",
       "  <thead>\n",
       "    <tr style=\"text-align: right;\">\n",
       "      <th></th>\n",
       "      <th>test_rmse</th>\n",
       "      <th>train_rmse</th>\n",
       "      <th>test_mae</th>\n",
       "      <th>train_mae</th>\n",
       "      <th>fit_time</th>\n",
       "      <th>test_time</th>\n",
       "    </tr>\n",
       "    <tr>\n",
       "      <th>Fold</th>\n",
       "      <th></th>\n",
       "      <th></th>\n",
       "      <th></th>\n",
       "      <th></th>\n",
       "      <th></th>\n",
       "      <th></th>\n",
       "    </tr>\n",
       "  </thead>\n",
       "  <tbody>\n",
       "    <tr>\n",
       "      <th>4</th>\n",
       "      <td>1.428514</td>\n",
       "      <td>1.431515</td>\n",
       "      <td>1.132894</td>\n",
       "      <td>1.134789</td>\n",
       "      <td>2.221971</td>\n",
       "      <td>2.049284</td>\n",
       "    </tr>\n",
       "    <tr>\n",
       "      <th>1</th>\n",
       "      <td>1.429718</td>\n",
       "      <td>1.430461</td>\n",
       "      <td>1.132606</td>\n",
       "      <td>1.133614</td>\n",
       "      <td>1.717977</td>\n",
       "      <td>2.491152</td>\n",
       "    </tr>\n",
       "    <tr>\n",
       "      <th>3</th>\n",
       "      <td>1.429994</td>\n",
       "      <td>1.430192</td>\n",
       "      <td>1.133665</td>\n",
       "      <td>1.132917</td>\n",
       "      <td>2.197474</td>\n",
       "      <td>2.505799</td>\n",
       "    </tr>\n",
       "    <tr>\n",
       "      <th>2</th>\n",
       "      <td>1.431590</td>\n",
       "      <td>1.430158</td>\n",
       "      <td>1.134689</td>\n",
       "      <td>1.133640</td>\n",
       "      <td>2.374519</td>\n",
       "      <td>2.756002</td>\n",
       "    </tr>\n",
       "    <tr>\n",
       "      <th>5</th>\n",
       "      <td>1.432227</td>\n",
       "      <td>1.429900</td>\n",
       "      <td>1.136025</td>\n",
       "      <td>1.133121</td>\n",
       "      <td>2.135047</td>\n",
       "      <td>2.928950</td>\n",
       "    </tr>\n",
       "  </tbody>\n",
       "</table>\n",
       "</div>"
      ],
      "text/plain": [
       "      test_rmse  train_rmse  test_mae  train_mae  fit_time  test_time\n",
       "Fold                                                                 \n",
       "4      1.428514    1.431515  1.132894   1.134789  2.221971   2.049284\n",
       "1      1.429718    1.430461  1.132606   1.133614  1.717977   2.491152\n",
       "3      1.429994    1.430192  1.133665   1.132917  2.197474   2.505799\n",
       "2      1.431590    1.430158  1.134689   1.133640  2.374519   2.756002\n",
       "5      1.432227    1.429900  1.136025   1.133121  2.135047   2.928950"
      ]
     },
     "metadata": {},
     "output_type": "display_data"
    }
   ],
   "source": [
    "norm_pred = pd.DataFrame.from_dict(norm_pred)\n",
    "folds = [1,2,3,4,5]\n",
    "norm_pred = norm_pred.assign(Fold = folds)\n",
    "norm_pred = norm_pred.set_index('Fold').sort_values(by=['test_rmse'])\n",
    "display(norm_pred)"
   ]
  },
  {
   "cell_type": "code",
   "execution_count": 33,
   "id": "cac48bf6-c5f8-4ddb-81b2-e6a33516cfe0",
   "metadata": {},
   "outputs": [
    {
     "name": "stdout",
     "output_type": "stream",
     "text": [
      "Baseline model's best performance: 1.428514429545212\n"
     ]
    }
   ],
   "source": [
    "print(\"Baseline model's best performance: \" + str(norm_pred['test_rmse'].min()))"
   ]
  },
  {
   "cell_type": "markdown",
   "id": "73292d79-ec1a-4129-abb7-632dcf8e3244",
   "metadata": {},
   "source": [
    "## Hyper-parameter selecting method selection:\n",
    "\n",
    "For hyper-parameter selecting method selection, we prepared 2 options, grid search and randomized search. To distinguish the better method, we tested both of them by coding and searched for a reference paper which analyzed these 2 methods. On the same computer, grid search took 86 minutes, randomized search only took 55 minutes. From the research of James and Yoshua (resource: https://www.jmlr.org/papers/volume13/bergstra12a/bergstra12a.pdf), they announced that random search can find better hyper-parameter combination for most cases, and take less running time by comparing with grid search. Based on these 2 aspects, we choose randomized search as the hyper-parameter selecting method.\n"
   ]
  },
  {
   "cell_type": "markdown",
   "id": "d3b0ad09-f695-4089-bb43-66a67a89094e",
   "metadata": {},
   "source": [
    "## First Model - Neighbourhood Method"
   ]
  },
  {
   "cell_type": "code",
   "execution_count": 98,
   "id": "f0a40a3a-b4fa-4103-9593-7875401ea3e4",
   "metadata": {},
   "outputs": [],
   "source": [
    "# Parameter grid\n",
    "\n",
    "param_grid = {'k': [5,7,9,11,13,15,17,19],\n",
    "              'sim_options': {'name': [ 'pearson','pearson_baseline'],\n",
    "                              'min_support': [1,3,5],\n",
    "                              'user_based': [False]},\n",
    "              'verbose':[False]}"
   ]
  },
  {
   "cell_type": "code",
   "execution_count": 99,
   "id": "24539bb0-0a3d-4ba4-a49f-fd496fd1564a",
   "metadata": {},
   "outputs": [],
   "source": [
    "# Function to run hp tuning and output a table of results\n",
    "\n",
    "best_knn_results_df = pd.DataFrame()\n",
    "\n",
    "def knn_model_hp_tune(model, param_grid):\n",
    "    global best_knn_results_df\n",
    "    model_results = pd.DataFrame()\n",
    "    result = RandomizedSearchCV(model, param_grid, cv=5, return_train_measures=True)\n",
    "    result.fit(data)\n",
    "    model_results = pd.DataFrame.from_dict(result.cv_results)\n",
    "    model_results = model_results[['mean_test_rmse', 'mean_train_rmse', 'mean_test_mae', 'mean_train_mae', \n",
    "                   'mean_fit_time', 'mean_test_time', 'params']]\n",
    "    labels = [model.__name__]*model_results.shape[0]\n",
    "    model_results = model_results.assign(Model = labels).set_index('Model')\n",
    "    model_results = model_results.sort_values('mean_test_rmse')\n",
    "    best_knn_results_df = best_knn_results_df.append(model_results.iloc[0])\n",
    "    return model_results\n",
    "    "
   ]
  },
  {
   "cell_type": "code",
   "execution_count": 100,
   "id": "702e0022-40af-4049-a81b-328e44124fd2",
   "metadata": {},
   "outputs": [],
   "source": [
    "pd.set_option(\"max_colwidth\", 120)"
   ]
  },
  {
   "cell_type": "code",
   "execution_count": 104,
   "id": "0c3ef1b1-735b-46a8-8e67-d3cd890f7118",
   "metadata": {},
   "outputs": [
    {
     "name": "stdout",
     "output_type": "stream",
     "text": [
      "Time to run: 2467.556744813919\n"
     ]
    }
   ],
   "source": [
    "# Hp tuning on KNN-Baseline model\n",
    "\n",
    "import time\n",
    "np.random.seed(2)\n",
    "\n",
    "start = time.time()\n",
    "\n",
    "knn_baseline_hp_df = knn_model_hp_tune(KNNBaseline, param_grid)\n",
    "\n",
    "end = time.time()\n",
    "time_it_took_baseline = end-start\n",
    "print('Time to run: ' + str(time_it_took_baseline))"
   ]
  },
  {
   "cell_type": "code",
   "execution_count": 105,
   "id": "b1e5b141-2cf9-4db1-a2a8-732a50c74964",
   "metadata": {},
   "outputs": [
    {
     "data": {
      "text/html": [
       "<div>\n",
       "<style scoped>\n",
       "    .dataframe tbody tr th:only-of-type {\n",
       "        vertical-align: middle;\n",
       "    }\n",
       "\n",
       "    .dataframe tbody tr th {\n",
       "        vertical-align: top;\n",
       "    }\n",
       "\n",
       "    .dataframe thead th {\n",
       "        text-align: right;\n",
       "    }\n",
       "</style>\n",
       "<table border=\"1\" class=\"dataframe\">\n",
       "  <thead>\n",
       "    <tr style=\"text-align: right;\">\n",
       "      <th></th>\n",
       "      <th>mean_test_rmse</th>\n",
       "      <th>mean_train_rmse</th>\n",
       "      <th>mean_test_mae</th>\n",
       "      <th>mean_train_mae</th>\n",
       "      <th>mean_fit_time</th>\n",
       "      <th>mean_test_time</th>\n",
       "      <th>params</th>\n",
       "    </tr>\n",
       "    <tr>\n",
       "      <th>Model</th>\n",
       "      <th></th>\n",
       "      <th></th>\n",
       "      <th></th>\n",
       "      <th></th>\n",
       "      <th></th>\n",
       "      <th></th>\n",
       "      <th></th>\n",
       "    </tr>\n",
       "  </thead>\n",
       "  <tbody>\n",
       "    <tr>\n",
       "      <th>KNNBaseline</th>\n",
       "      <td>0.915994</td>\n",
       "      <td>0.516039</td>\n",
       "      <td>0.689317</td>\n",
       "      <td>0.385057</td>\n",
       "      <td>4.419241</td>\n",
       "      <td>8.232495</td>\n",
       "      <td>{'k': 9, 'sim_options': {'name': 'pearson', 'min_support': 5, 'user_based': False}, 'verbose': False}</td>\n",
       "    </tr>\n",
       "    <tr>\n",
       "      <th>KNNBaseline</th>\n",
       "      <td>0.916075</td>\n",
       "      <td>0.516115</td>\n",
       "      <td>0.689388</td>\n",
       "      <td>0.385132</td>\n",
       "      <td>3.818455</td>\n",
       "      <td>8.991826</td>\n",
       "      <td>{'k': 9, 'sim_options': {'name': 'pearson', 'min_support': 3, 'user_based': False}, 'verbose': False}</td>\n",
       "    </tr>\n",
       "    <tr>\n",
       "      <th>KNNBaseline</th>\n",
       "      <td>0.916096</td>\n",
       "      <td>0.516137</td>\n",
       "      <td>0.689414</td>\n",
       "      <td>0.385148</td>\n",
       "      <td>4.576236</td>\n",
       "      <td>9.655310</td>\n",
       "      <td>{'k': 9, 'sim_options': {'name': 'pearson', 'min_support': 1, 'user_based': False}, 'verbose': False}</td>\n",
       "    </tr>\n",
       "    <tr>\n",
       "      <th>KNNBaseline</th>\n",
       "      <td>0.916327</td>\n",
       "      <td>0.555184</td>\n",
       "      <td>0.691417</td>\n",
       "      <td>0.414334</td>\n",
       "      <td>4.735301</td>\n",
       "      <td>8.996859</td>\n",
       "      <td>{'k': 19, 'sim_options': {'name': 'pearson', 'min_support': 3, 'user_based': False}, 'verbose': False}</td>\n",
       "    </tr>\n",
       "    <tr>\n",
       "      <th>KNNBaseline</th>\n",
       "      <td>0.916345</td>\n",
       "      <td>0.555203</td>\n",
       "      <td>0.691439</td>\n",
       "      <td>0.414348</td>\n",
       "      <td>4.023512</td>\n",
       "      <td>8.488016</td>\n",
       "      <td>{'k': 19, 'sim_options': {'name': 'pearson', 'min_support': 1, 'user_based': False}, 'verbose': False}</td>\n",
       "    </tr>\n",
       "    <tr>\n",
       "      <th>KNNBaseline</th>\n",
       "      <td>0.925309</td>\n",
       "      <td>0.447415</td>\n",
       "      <td>0.693054</td>\n",
       "      <td>0.331846</td>\n",
       "      <td>4.462475</td>\n",
       "      <td>7.692730</td>\n",
       "      <td>{'k': 5, 'sim_options': {'name': 'pearson', 'min_support': 1, 'user_based': False}, 'verbose': False}</td>\n",
       "    </tr>\n",
       "    <tr>\n",
       "      <th>KNNBaseline</th>\n",
       "      <td>0.929904</td>\n",
       "      <td>0.288613</td>\n",
       "      <td>0.689144</td>\n",
       "      <td>0.198836</td>\n",
       "      <td>4.267021</td>\n",
       "      <td>8.366417</td>\n",
       "      <td>{'k': 19, 'sim_options': {'name': 'pearson_baseline', 'min_support': 3, 'user_based': False}, 'verbose': False}</td>\n",
       "    </tr>\n",
       "    <tr>\n",
       "      <th>KNNBaseline</th>\n",
       "      <td>0.929911</td>\n",
       "      <td>0.287938</td>\n",
       "      <td>0.689131</td>\n",
       "      <td>0.198460</td>\n",
       "      <td>4.446751</td>\n",
       "      <td>8.200993</td>\n",
       "      <td>{'k': 15, 'sim_options': {'name': 'pearson_baseline', 'min_support': 5, 'user_based': False}, 'verbose': False}</td>\n",
       "    </tr>\n",
       "    <tr>\n",
       "      <th>KNNBaseline</th>\n",
       "      <td>0.930110</td>\n",
       "      <td>0.284610</td>\n",
       "      <td>0.689203</td>\n",
       "      <td>0.196481</td>\n",
       "      <td>5.220586</td>\n",
       "      <td>8.916044</td>\n",
       "      <td>{'k': 11, 'sim_options': {'name': 'pearson_baseline', 'min_support': 5, 'user_based': False}, 'verbose': False}</td>\n",
       "    </tr>\n",
       "    <tr>\n",
       "      <th>KNNBaseline</th>\n",
       "      <td>0.930620</td>\n",
       "      <td>0.279923</td>\n",
       "      <td>0.689452</td>\n",
       "      <td>0.193522</td>\n",
       "      <td>4.184753</td>\n",
       "      <td>8.129687</td>\n",
       "      <td>{'k': 9, 'sim_options': {'name': 'pearson_baseline', 'min_support': 3, 'user_based': False}, 'verbose': False}</td>\n",
       "    </tr>\n",
       "  </tbody>\n",
       "</table>\n",
       "</div>"
      ],
      "text/plain": [
       "             mean_test_rmse  mean_train_rmse  mean_test_mae  mean_train_mae  \\\n",
       "Model                                                                         \n",
       "KNNBaseline        0.915994         0.516039       0.689317        0.385057   \n",
       "KNNBaseline        0.916075         0.516115       0.689388        0.385132   \n",
       "KNNBaseline        0.916096         0.516137       0.689414        0.385148   \n",
       "KNNBaseline        0.916327         0.555184       0.691417        0.414334   \n",
       "KNNBaseline        0.916345         0.555203       0.691439        0.414348   \n",
       "KNNBaseline        0.925309         0.447415       0.693054        0.331846   \n",
       "KNNBaseline        0.929904         0.288613       0.689144        0.198836   \n",
       "KNNBaseline        0.929911         0.287938       0.689131        0.198460   \n",
       "KNNBaseline        0.930110         0.284610       0.689203        0.196481   \n",
       "KNNBaseline        0.930620         0.279923       0.689452        0.193522   \n",
       "\n",
       "             mean_fit_time  mean_test_time  \\\n",
       "Model                                        \n",
       "KNNBaseline       4.419241        8.232495   \n",
       "KNNBaseline       3.818455        8.991826   \n",
       "KNNBaseline       4.576236        9.655310   \n",
       "KNNBaseline       4.735301        8.996859   \n",
       "KNNBaseline       4.023512        8.488016   \n",
       "KNNBaseline       4.462475        7.692730   \n",
       "KNNBaseline       4.267021        8.366417   \n",
       "KNNBaseline       4.446751        8.200993   \n",
       "KNNBaseline       5.220586        8.916044   \n",
       "KNNBaseline       4.184753        8.129687   \n",
       "\n",
       "                                                                                                                      params  \n",
       "Model                                                                                                                         \n",
       "KNNBaseline            {'k': 9, 'sim_options': {'name': 'pearson', 'min_support': 5, 'user_based': False}, 'verbose': False}  \n",
       "KNNBaseline            {'k': 9, 'sim_options': {'name': 'pearson', 'min_support': 3, 'user_based': False}, 'verbose': False}  \n",
       "KNNBaseline            {'k': 9, 'sim_options': {'name': 'pearson', 'min_support': 1, 'user_based': False}, 'verbose': False}  \n",
       "KNNBaseline           {'k': 19, 'sim_options': {'name': 'pearson', 'min_support': 3, 'user_based': False}, 'verbose': False}  \n",
       "KNNBaseline           {'k': 19, 'sim_options': {'name': 'pearson', 'min_support': 1, 'user_based': False}, 'verbose': False}  \n",
       "KNNBaseline            {'k': 5, 'sim_options': {'name': 'pearson', 'min_support': 1, 'user_based': False}, 'verbose': False}  \n",
       "KNNBaseline  {'k': 19, 'sim_options': {'name': 'pearson_baseline', 'min_support': 3, 'user_based': False}, 'verbose': False}  \n",
       "KNNBaseline  {'k': 15, 'sim_options': {'name': 'pearson_baseline', 'min_support': 5, 'user_based': False}, 'verbose': False}  \n",
       "KNNBaseline  {'k': 11, 'sim_options': {'name': 'pearson_baseline', 'min_support': 5, 'user_based': False}, 'verbose': False}  \n",
       "KNNBaseline   {'k': 9, 'sim_options': {'name': 'pearson_baseline', 'min_support': 3, 'user_based': False}, 'verbose': False}  "
      ]
     },
     "execution_count": 105,
     "metadata": {},
     "output_type": "execute_result"
    }
   ],
   "source": [
    "knn_baseline_hp_df"
   ]
  },
  {
   "cell_type": "code",
   "execution_count": 106,
   "id": "726ce026-0ec8-44b7-8e38-7c18a4b41e6c",
   "metadata": {},
   "outputs": [
    {
     "name": "stdout",
     "output_type": "stream",
     "text": [
      "Time to run: 2021.2970623970032\n"
     ]
    }
   ],
   "source": [
    "# Hp tuning on KNN with Means model\n",
    "\n",
    "import time\n",
    "np.random.seed(2)\n",
    "\n",
    "start = time.time()\n",
    "\n",
    "knn_means_hp_df = knn_model_hp_tune(KNNWithMeans, param_grid)\n",
    "\n",
    "end = time.time()\n",
    "time_it_took_means = end-start\n",
    "print('Time to run: ' + str(time_it_took_means))"
   ]
  },
  {
   "cell_type": "code",
   "execution_count": 107,
   "id": "8cb1b7c1-7f31-4f11-b8c9-d64523a7b509",
   "metadata": {},
   "outputs": [
    {
     "data": {
      "text/html": [
       "<div>\n",
       "<style scoped>\n",
       "    .dataframe tbody tr th:only-of-type {\n",
       "        vertical-align: middle;\n",
       "    }\n",
       "\n",
       "    .dataframe tbody tr th {\n",
       "        vertical-align: top;\n",
       "    }\n",
       "\n",
       "    .dataframe thead th {\n",
       "        text-align: right;\n",
       "    }\n",
       "</style>\n",
       "<table border=\"1\" class=\"dataframe\">\n",
       "  <thead>\n",
       "    <tr style=\"text-align: right;\">\n",
       "      <th></th>\n",
       "      <th>mean_test_rmse</th>\n",
       "      <th>mean_train_rmse</th>\n",
       "      <th>mean_test_mae</th>\n",
       "      <th>mean_train_mae</th>\n",
       "      <th>mean_fit_time</th>\n",
       "      <th>mean_test_time</th>\n",
       "      <th>params</th>\n",
       "    </tr>\n",
       "    <tr>\n",
       "      <th>Model</th>\n",
       "      <th></th>\n",
       "      <th></th>\n",
       "      <th></th>\n",
       "      <th></th>\n",
       "      <th></th>\n",
       "      <th></th>\n",
       "      <th></th>\n",
       "    </tr>\n",
       "  </thead>\n",
       "  <tbody>\n",
       "    <tr>\n",
       "      <th>KNNWithMeans</th>\n",
       "      <td>0.919076</td>\n",
       "      <td>0.516463</td>\n",
       "      <td>0.691719</td>\n",
       "      <td>0.385467</td>\n",
       "      <td>1.848789</td>\n",
       "      <td>7.314214</td>\n",
       "      <td>{'k': 9, 'sim_options': {'name': 'pearson', 'min_support': 5, 'user_based': False}, 'verbose': False}</td>\n",
       "    </tr>\n",
       "    <tr>\n",
       "      <th>KNNWithMeans</th>\n",
       "      <td>0.919159</td>\n",
       "      <td>0.516541</td>\n",
       "      <td>0.691791</td>\n",
       "      <td>0.385542</td>\n",
       "      <td>1.753985</td>\n",
       "      <td>7.104483</td>\n",
       "      <td>{'k': 9, 'sim_options': {'name': 'pearson', 'min_support': 3, 'user_based': False}, 'verbose': False}</td>\n",
       "    </tr>\n",
       "    <tr>\n",
       "      <th>KNNWithMeans</th>\n",
       "      <td>0.919181</td>\n",
       "      <td>0.516563</td>\n",
       "      <td>0.691818</td>\n",
       "      <td>0.385559</td>\n",
       "      <td>1.720051</td>\n",
       "      <td>7.202333</td>\n",
       "      <td>{'k': 9, 'sim_options': {'name': 'pearson', 'min_support': 1, 'user_based': False}, 'verbose': False}</td>\n",
       "    </tr>\n",
       "    <tr>\n",
       "      <th>KNNWithMeans</th>\n",
       "      <td>0.919436</td>\n",
       "      <td>0.555653</td>\n",
       "      <td>0.693873</td>\n",
       "      <td>0.414815</td>\n",
       "      <td>1.756475</td>\n",
       "      <td>7.887719</td>\n",
       "      <td>{'k': 19, 'sim_options': {'name': 'pearson', 'min_support': 3, 'user_based': False}, 'verbose': False}</td>\n",
       "    </tr>\n",
       "    <tr>\n",
       "      <th>KNNWithMeans</th>\n",
       "      <td>0.919455</td>\n",
       "      <td>0.555672</td>\n",
       "      <td>0.693896</td>\n",
       "      <td>0.414829</td>\n",
       "      <td>1.720835</td>\n",
       "      <td>7.382070</td>\n",
       "      <td>{'k': 19, 'sim_options': {'name': 'pearson', 'min_support': 1, 'user_based': False}, 'verbose': False}</td>\n",
       "    </tr>\n",
       "    <tr>\n",
       "      <th>KNNWithMeans</th>\n",
       "      <td>0.928376</td>\n",
       "      <td>0.447804</td>\n",
       "      <td>0.695410</td>\n",
       "      <td>0.332179</td>\n",
       "      <td>1.630272</td>\n",
       "      <td>6.672109</td>\n",
       "      <td>{'k': 5, 'sim_options': {'name': 'pearson', 'min_support': 1, 'user_based': False}, 'verbose': False}</td>\n",
       "    </tr>\n",
       "    <tr>\n",
       "      <th>KNNWithMeans</th>\n",
       "      <td>0.933166</td>\n",
       "      <td>0.288795</td>\n",
       "      <td>0.691574</td>\n",
       "      <td>0.198994</td>\n",
       "      <td>4.596944</td>\n",
       "      <td>5.949509</td>\n",
       "      <td>{'k': 19, 'sim_options': {'name': 'pearson_baseline', 'min_support': 3, 'user_based': False}, 'verbose': False}</td>\n",
       "    </tr>\n",
       "    <tr>\n",
       "      <th>KNNWithMeans</th>\n",
       "      <td>0.933175</td>\n",
       "      <td>0.288118</td>\n",
       "      <td>0.691563</td>\n",
       "      <td>0.198618</td>\n",
       "      <td>4.527300</td>\n",
       "      <td>6.437486</td>\n",
       "      <td>{'k': 15, 'sim_options': {'name': 'pearson_baseline', 'min_support': 5, 'user_based': False}, 'verbose': False}</td>\n",
       "    </tr>\n",
       "    <tr>\n",
       "      <th>KNNWithMeans</th>\n",
       "      <td>0.933373</td>\n",
       "      <td>0.284785</td>\n",
       "      <td>0.691634</td>\n",
       "      <td>0.196635</td>\n",
       "      <td>5.057280</td>\n",
       "      <td>7.552534</td>\n",
       "      <td>{'k': 11, 'sim_options': {'name': 'pearson_baseline', 'min_support': 5, 'user_based': False}, 'verbose': False}</td>\n",
       "    </tr>\n",
       "    <tr>\n",
       "      <th>KNNWithMeans</th>\n",
       "      <td>0.933878</td>\n",
       "      <td>0.280090</td>\n",
       "      <td>0.691877</td>\n",
       "      <td>0.193671</td>\n",
       "      <td>4.644257</td>\n",
       "      <td>6.348827</td>\n",
       "      <td>{'k': 9, 'sim_options': {'name': 'pearson_baseline', 'min_support': 3, 'user_based': False}, 'verbose': False}</td>\n",
       "    </tr>\n",
       "  </tbody>\n",
       "</table>\n",
       "</div>"
      ],
      "text/plain": [
       "              mean_test_rmse  mean_train_rmse  mean_test_mae  mean_train_mae  \\\n",
       "Model                                                                          \n",
       "KNNWithMeans        0.919076         0.516463       0.691719        0.385467   \n",
       "KNNWithMeans        0.919159         0.516541       0.691791        0.385542   \n",
       "KNNWithMeans        0.919181         0.516563       0.691818        0.385559   \n",
       "KNNWithMeans        0.919436         0.555653       0.693873        0.414815   \n",
       "KNNWithMeans        0.919455         0.555672       0.693896        0.414829   \n",
       "KNNWithMeans        0.928376         0.447804       0.695410        0.332179   \n",
       "KNNWithMeans        0.933166         0.288795       0.691574        0.198994   \n",
       "KNNWithMeans        0.933175         0.288118       0.691563        0.198618   \n",
       "KNNWithMeans        0.933373         0.284785       0.691634        0.196635   \n",
       "KNNWithMeans        0.933878         0.280090       0.691877        0.193671   \n",
       "\n",
       "              mean_fit_time  mean_test_time  \\\n",
       "Model                                         \n",
       "KNNWithMeans       1.848789        7.314214   \n",
       "KNNWithMeans       1.753985        7.104483   \n",
       "KNNWithMeans       1.720051        7.202333   \n",
       "KNNWithMeans       1.756475        7.887719   \n",
       "KNNWithMeans       1.720835        7.382070   \n",
       "KNNWithMeans       1.630272        6.672109   \n",
       "KNNWithMeans       4.596944        5.949509   \n",
       "KNNWithMeans       4.527300        6.437486   \n",
       "KNNWithMeans       5.057280        7.552534   \n",
       "KNNWithMeans       4.644257        6.348827   \n",
       "\n",
       "                                                                                                                       params  \n",
       "Model                                                                                                                          \n",
       "KNNWithMeans            {'k': 9, 'sim_options': {'name': 'pearson', 'min_support': 5, 'user_based': False}, 'verbose': False}  \n",
       "KNNWithMeans            {'k': 9, 'sim_options': {'name': 'pearson', 'min_support': 3, 'user_based': False}, 'verbose': False}  \n",
       "KNNWithMeans            {'k': 9, 'sim_options': {'name': 'pearson', 'min_support': 1, 'user_based': False}, 'verbose': False}  \n",
       "KNNWithMeans           {'k': 19, 'sim_options': {'name': 'pearson', 'min_support': 3, 'user_based': False}, 'verbose': False}  \n",
       "KNNWithMeans           {'k': 19, 'sim_options': {'name': 'pearson', 'min_support': 1, 'user_based': False}, 'verbose': False}  \n",
       "KNNWithMeans            {'k': 5, 'sim_options': {'name': 'pearson', 'min_support': 1, 'user_based': False}, 'verbose': False}  \n",
       "KNNWithMeans  {'k': 19, 'sim_options': {'name': 'pearson_baseline', 'min_support': 3, 'user_based': False}, 'verbose': False}  \n",
       "KNNWithMeans  {'k': 15, 'sim_options': {'name': 'pearson_baseline', 'min_support': 5, 'user_based': False}, 'verbose': False}  \n",
       "KNNWithMeans  {'k': 11, 'sim_options': {'name': 'pearson_baseline', 'min_support': 5, 'user_based': False}, 'verbose': False}  \n",
       "KNNWithMeans   {'k': 9, 'sim_options': {'name': 'pearson_baseline', 'min_support': 3, 'user_based': False}, 'verbose': False}  "
      ]
     },
     "execution_count": 107,
     "metadata": {},
     "output_type": "execute_result"
    }
   ],
   "source": [
    "knn_means_hp_df"
   ]
  },
  {
   "cell_type": "code",
   "execution_count": 108,
   "id": "f813227f-047c-4782-9d88-cbf7d7ea2f8d",
   "metadata": {},
   "outputs": [
    {
     "name": "stdout",
     "output_type": "stream",
     "text": [
      "Time to run: 2049.4776413440704\n"
     ]
    }
   ],
   "source": [
    "# Hp tuning on KNN with Z-score model\n",
    "\n",
    "import time\n",
    "np.random.seed(2)\n",
    "\n",
    "start = time.time()\n",
    "\n",
    "knn_zscore_hp_df = knn_model_hp_tune(KNNWithZScore, param_grid)\n",
    "\n",
    "end = time.time()\n",
    "time_it_took_zscore = end-start\n",
    "print('Time to run: ' + str(time_it_took_zscore))"
   ]
  },
  {
   "cell_type": "code",
   "execution_count": 109,
   "id": "1ce90c1b-e2d5-48b7-8b2c-2160615389e2",
   "metadata": {},
   "outputs": [
    {
     "data": {
      "text/html": [
       "<div>\n",
       "<style scoped>\n",
       "    .dataframe tbody tr th:only-of-type {\n",
       "        vertical-align: middle;\n",
       "    }\n",
       "\n",
       "    .dataframe tbody tr th {\n",
       "        vertical-align: top;\n",
       "    }\n",
       "\n",
       "    .dataframe thead th {\n",
       "        text-align: right;\n",
       "    }\n",
       "</style>\n",
       "<table border=\"1\" class=\"dataframe\">\n",
       "  <thead>\n",
       "    <tr style=\"text-align: right;\">\n",
       "      <th></th>\n",
       "      <th>mean_test_rmse</th>\n",
       "      <th>mean_train_rmse</th>\n",
       "      <th>mean_test_mae</th>\n",
       "      <th>mean_train_mae</th>\n",
       "      <th>mean_fit_time</th>\n",
       "      <th>mean_test_time</th>\n",
       "      <th>params</th>\n",
       "    </tr>\n",
       "    <tr>\n",
       "      <th>Model</th>\n",
       "      <th></th>\n",
       "      <th></th>\n",
       "      <th></th>\n",
       "      <th></th>\n",
       "      <th></th>\n",
       "      <th></th>\n",
       "      <th></th>\n",
       "    </tr>\n",
       "  </thead>\n",
       "  <tbody>\n",
       "    <tr>\n",
       "      <th>KNNWithZScore</th>\n",
       "      <td>0.920302</td>\n",
       "      <td>0.516526</td>\n",
       "      <td>0.691984</td>\n",
       "      <td>0.385388</td>\n",
       "      <td>2.312638</td>\n",
       "      <td>6.857675</td>\n",
       "      <td>{'k': 9, 'sim_options': {'name': 'pearson', 'min_support': 5, 'user_based': False}, 'verbose': False}</td>\n",
       "    </tr>\n",
       "    <tr>\n",
       "      <th>KNNWithZScore</th>\n",
       "      <td>0.920380</td>\n",
       "      <td>0.516603</td>\n",
       "      <td>0.692054</td>\n",
       "      <td>0.385464</td>\n",
       "      <td>2.273148</td>\n",
       "      <td>7.150002</td>\n",
       "      <td>{'k': 9, 'sim_options': {'name': 'pearson', 'min_support': 3, 'user_based': False}, 'verbose': False}</td>\n",
       "    </tr>\n",
       "    <tr>\n",
       "      <th>KNNWithZScore</th>\n",
       "      <td>0.920406</td>\n",
       "      <td>0.516625</td>\n",
       "      <td>0.692081</td>\n",
       "      <td>0.385480</td>\n",
       "      <td>2.553584</td>\n",
       "      <td>7.270317</td>\n",
       "      <td>{'k': 9, 'sim_options': {'name': 'pearson', 'min_support': 1, 'user_based': False}, 'verbose': False}</td>\n",
       "    </tr>\n",
       "    <tr>\n",
       "      <th>KNNWithZScore</th>\n",
       "      <td>0.920645</td>\n",
       "      <td>0.555691</td>\n",
       "      <td>0.694199</td>\n",
       "      <td>0.414783</td>\n",
       "      <td>2.355047</td>\n",
       "      <td>7.640504</td>\n",
       "      <td>{'k': 19, 'sim_options': {'name': 'pearson', 'min_support': 3, 'user_based': False}, 'verbose': False}</td>\n",
       "    </tr>\n",
       "    <tr>\n",
       "      <th>KNNWithZScore</th>\n",
       "      <td>0.920668</td>\n",
       "      <td>0.555710</td>\n",
       "      <td>0.694223</td>\n",
       "      <td>0.414797</td>\n",
       "      <td>2.348368</td>\n",
       "      <td>7.448239</td>\n",
       "      <td>{'k': 19, 'sim_options': {'name': 'pearson', 'min_support': 1, 'user_based': False}, 'verbose': False}</td>\n",
       "    </tr>\n",
       "    <tr>\n",
       "      <th>KNNWithZScore</th>\n",
       "      <td>0.929659</td>\n",
       "      <td>0.447912</td>\n",
       "      <td>0.695645</td>\n",
       "      <td>0.332069</td>\n",
       "      <td>2.336987</td>\n",
       "      <td>6.779240</td>\n",
       "      <td>{'k': 5, 'sim_options': {'name': 'pearson', 'min_support': 1, 'user_based': False}, 'verbose': False}</td>\n",
       "    </tr>\n",
       "    <tr>\n",
       "      <th>KNNWithZScore</th>\n",
       "      <td>0.934078</td>\n",
       "      <td>0.288683</td>\n",
       "      <td>0.691716</td>\n",
       "      <td>0.198937</td>\n",
       "      <td>4.902075</td>\n",
       "      <td>6.127139</td>\n",
       "      <td>{'k': 19, 'sim_options': {'name': 'pearson_baseline', 'min_support': 3, 'user_based': False}, 'verbose': False}</td>\n",
       "    </tr>\n",
       "    <tr>\n",
       "      <th>KNNWithZScore</th>\n",
       "      <td>0.934083</td>\n",
       "      <td>0.288005</td>\n",
       "      <td>0.691702</td>\n",
       "      <td>0.198559</td>\n",
       "      <td>4.866825</td>\n",
       "      <td>6.531915</td>\n",
       "      <td>{'k': 15, 'sim_options': {'name': 'pearson_baseline', 'min_support': 5, 'user_based': False}, 'verbose': False}</td>\n",
       "    </tr>\n",
       "    <tr>\n",
       "      <th>KNNWithZScore</th>\n",
       "      <td>0.934277</td>\n",
       "      <td>0.284673</td>\n",
       "      <td>0.691772</td>\n",
       "      <td>0.196573</td>\n",
       "      <td>6.742850</td>\n",
       "      <td>7.769959</td>\n",
       "      <td>{'k': 11, 'sim_options': {'name': 'pearson_baseline', 'min_support': 5, 'user_based': False}, 'verbose': False}</td>\n",
       "    </tr>\n",
       "    <tr>\n",
       "      <th>KNNWithZScore</th>\n",
       "      <td>0.934781</td>\n",
       "      <td>0.279976</td>\n",
       "      <td>0.692011</td>\n",
       "      <td>0.193602</td>\n",
       "      <td>5.072250</td>\n",
       "      <td>6.957985</td>\n",
       "      <td>{'k': 9, 'sim_options': {'name': 'pearson_baseline', 'min_support': 3, 'user_based': False}, 'verbose': False}</td>\n",
       "    </tr>\n",
       "  </tbody>\n",
       "</table>\n",
       "</div>"
      ],
      "text/plain": [
       "               mean_test_rmse  mean_train_rmse  mean_test_mae  mean_train_mae  \\\n",
       "Model                                                                           \n",
       "KNNWithZScore        0.920302         0.516526       0.691984        0.385388   \n",
       "KNNWithZScore        0.920380         0.516603       0.692054        0.385464   \n",
       "KNNWithZScore        0.920406         0.516625       0.692081        0.385480   \n",
       "KNNWithZScore        0.920645         0.555691       0.694199        0.414783   \n",
       "KNNWithZScore        0.920668         0.555710       0.694223        0.414797   \n",
       "KNNWithZScore        0.929659         0.447912       0.695645        0.332069   \n",
       "KNNWithZScore        0.934078         0.288683       0.691716        0.198937   \n",
       "KNNWithZScore        0.934083         0.288005       0.691702        0.198559   \n",
       "KNNWithZScore        0.934277         0.284673       0.691772        0.196573   \n",
       "KNNWithZScore        0.934781         0.279976       0.692011        0.193602   \n",
       "\n",
       "               mean_fit_time  mean_test_time  \\\n",
       "Model                                          \n",
       "KNNWithZScore       2.312638        6.857675   \n",
       "KNNWithZScore       2.273148        7.150002   \n",
       "KNNWithZScore       2.553584        7.270317   \n",
       "KNNWithZScore       2.355047        7.640504   \n",
       "KNNWithZScore       2.348368        7.448239   \n",
       "KNNWithZScore       2.336987        6.779240   \n",
       "KNNWithZScore       4.902075        6.127139   \n",
       "KNNWithZScore       4.866825        6.531915   \n",
       "KNNWithZScore       6.742850        7.769959   \n",
       "KNNWithZScore       5.072250        6.957985   \n",
       "\n",
       "                                                                                                                        params  \n",
       "Model                                                                                                                           \n",
       "KNNWithZScore            {'k': 9, 'sim_options': {'name': 'pearson', 'min_support': 5, 'user_based': False}, 'verbose': False}  \n",
       "KNNWithZScore            {'k': 9, 'sim_options': {'name': 'pearson', 'min_support': 3, 'user_based': False}, 'verbose': False}  \n",
       "KNNWithZScore            {'k': 9, 'sim_options': {'name': 'pearson', 'min_support': 1, 'user_based': False}, 'verbose': False}  \n",
       "KNNWithZScore           {'k': 19, 'sim_options': {'name': 'pearson', 'min_support': 3, 'user_based': False}, 'verbose': False}  \n",
       "KNNWithZScore           {'k': 19, 'sim_options': {'name': 'pearson', 'min_support': 1, 'user_based': False}, 'verbose': False}  \n",
       "KNNWithZScore            {'k': 5, 'sim_options': {'name': 'pearson', 'min_support': 1, 'user_based': False}, 'verbose': False}  \n",
       "KNNWithZScore  {'k': 19, 'sim_options': {'name': 'pearson_baseline', 'min_support': 3, 'user_based': False}, 'verbose': False}  \n",
       "KNNWithZScore  {'k': 15, 'sim_options': {'name': 'pearson_baseline', 'min_support': 5, 'user_based': False}, 'verbose': False}  \n",
       "KNNWithZScore  {'k': 11, 'sim_options': {'name': 'pearson_baseline', 'min_support': 5, 'user_based': False}, 'verbose': False}  \n",
       "KNNWithZScore   {'k': 9, 'sim_options': {'name': 'pearson_baseline', 'min_support': 3, 'user_based': False}, 'verbose': False}  "
      ]
     },
     "execution_count": 109,
     "metadata": {},
     "output_type": "execute_result"
    }
   ],
   "source": [
    "knn_zscore_hp_df"
   ]
  },
  {
   "cell_type": "code",
   "execution_count": 110,
   "id": "4fc2d049-1d43-4ce2-947c-11ae02a8f289",
   "metadata": {},
   "outputs": [
    {
     "data": {
      "text/html": [
       "<div>\n",
       "<style scoped>\n",
       "    .dataframe tbody tr th:only-of-type {\n",
       "        vertical-align: middle;\n",
       "    }\n",
       "\n",
       "    .dataframe tbody tr th {\n",
       "        vertical-align: top;\n",
       "    }\n",
       "\n",
       "    .dataframe thead th {\n",
       "        text-align: right;\n",
       "    }\n",
       "</style>\n",
       "<table border=\"1\" class=\"dataframe\">\n",
       "  <thead>\n",
       "    <tr style=\"text-align: right;\">\n",
       "      <th></th>\n",
       "      <th>mean_test_rmse</th>\n",
       "      <th>mean_train_rmse</th>\n",
       "      <th>mean_test_mae</th>\n",
       "      <th>mean_train_mae</th>\n",
       "      <th>mean_fit_time</th>\n",
       "      <th>mean_test_time</th>\n",
       "      <th>params</th>\n",
       "    </tr>\n",
       "  </thead>\n",
       "  <tbody>\n",
       "    <tr>\n",
       "      <th>KNNBaseline</th>\n",
       "      <td>0.915994</td>\n",
       "      <td>0.516039</td>\n",
       "      <td>0.689317</td>\n",
       "      <td>0.385057</td>\n",
       "      <td>4.419241</td>\n",
       "      <td>8.232495</td>\n",
       "      <td>{'k': 9, 'sim_options': {'name': 'pearson', 'min_support': 5, 'user_based': False}, 'verbose': False}</td>\n",
       "    </tr>\n",
       "    <tr>\n",
       "      <th>KNNWithMeans</th>\n",
       "      <td>0.919076</td>\n",
       "      <td>0.516463</td>\n",
       "      <td>0.691719</td>\n",
       "      <td>0.385467</td>\n",
       "      <td>1.848789</td>\n",
       "      <td>7.314214</td>\n",
       "      <td>{'k': 9, 'sim_options': {'name': 'pearson', 'min_support': 5, 'user_based': False}, 'verbose': False}</td>\n",
       "    </tr>\n",
       "    <tr>\n",
       "      <th>KNNWithZScore</th>\n",
       "      <td>0.920302</td>\n",
       "      <td>0.516526</td>\n",
       "      <td>0.691984</td>\n",
       "      <td>0.385388</td>\n",
       "      <td>2.312638</td>\n",
       "      <td>6.857675</td>\n",
       "      <td>{'k': 9, 'sim_options': {'name': 'pearson', 'min_support': 5, 'user_based': False}, 'verbose': False}</td>\n",
       "    </tr>\n",
       "  </tbody>\n",
       "</table>\n",
       "</div>"
      ],
      "text/plain": [
       "               mean_test_rmse  mean_train_rmse  mean_test_mae  mean_train_mae  \\\n",
       "KNNBaseline          0.915994         0.516039       0.689317        0.385057   \n",
       "KNNWithMeans         0.919076         0.516463       0.691719        0.385467   \n",
       "KNNWithZScore        0.920302         0.516526       0.691984        0.385388   \n",
       "\n",
       "               mean_fit_time  mean_test_time  \\\n",
       "KNNBaseline         4.419241        8.232495   \n",
       "KNNWithMeans        1.848789        7.314214   \n",
       "KNNWithZScore       2.312638        6.857675   \n",
       "\n",
       "                                                                                                              params  \n",
       "KNNBaseline    {'k': 9, 'sim_options': {'name': 'pearson', 'min_support': 5, 'user_based': False}, 'verbose': False}  \n",
       "KNNWithMeans   {'k': 9, 'sim_options': {'name': 'pearson', 'min_support': 5, 'user_based': False}, 'verbose': False}  \n",
       "KNNWithZScore  {'k': 9, 'sim_options': {'name': 'pearson', 'min_support': 5, 'user_based': False}, 'verbose': False}  "
      ]
     },
     "metadata": {},
     "output_type": "display_data"
    }
   ],
   "source": [
    "# Displaying the best result for each of the models\n",
    "\n",
    "display(best_knn_results_df.sort_values('mean_test_rmse'))"
   ]
  },
  {
   "cell_type": "code",
   "execution_count": 111,
   "id": "4132bf17-e8ed-4ce8-b5b4-0f0154d000c2",
   "metadata": {},
   "outputs": [
    {
     "name": "stdout",
     "output_type": "stream",
     "text": [
      "Best sore: 0.9159936251685419\n",
      "Best params: {'k': 9, 'sim_options': {'name': 'pearson', 'min_support': 5, 'user_based': False}, 'verbose': False}\n"
     ]
    }
   ],
   "source": [
    "best_knn_results_model = best_knn_results_df.iloc[0]\n",
    "best_score = best_knn_results_model['mean_test_rmse']\n",
    "print('Best sore: ' + str(best_score))\n",
    "best_params = best_knn_results_model['params']\n",
    "print('Best params: ' + str(best_params))"
   ]
  },
  {
   "cell_type": "code",
   "execution_count": 112,
   "id": "1e5bb9e5-1200-4018-94c5-cb455cf2b3f6",
   "metadata": {},
   "outputs": [
    {
     "name": "stdout",
     "output_type": "stream",
     "text": [
      "Optimal number of neighbours: 9\n",
      "Optimal distance measure: pearson\n",
      "Optimal minimum support: 5\n"
     ]
    }
   ],
   "source": [
    "# Creating the optimal knn model\n",
    "\n",
    "nn = best_params['k']\n",
    "print('Optimal number of neighbours: ' + str(nn))\n",
    "name = best_params['sim_options']['name']\n",
    "print('Optimal distance measure: ' + str(name))\n",
    "ms = best_params['sim_options']['min_support']\n",
    "print('Optimal minimum support: ' + str(ms))"
   ]
  },
  {
   "cell_type": "code",
   "execution_count": 113,
   "id": "4bc4ea69-98f9-4fd9-ac35-50d81e07cd34",
   "metadata": {},
   "outputs": [],
   "source": [
    "knn = KNNBaseline(k=nn, sim_options = {'name':name, 'user_based':False, 'min_support':ms}, verbose=False)"
   ]
  },
  {
   "cell_type": "code",
   "execution_count": 114,
   "id": "e8acb78c-e363-4910-81e2-b8eac7ca5f4e",
   "metadata": {},
   "outputs": [
    {
     "name": "stdout",
     "output_type": "stream",
     "text": [
      "Time to run: 229.83649396896362\n"
     ]
    }
   ],
   "source": [
    "# Cross validation with optimised knn model\n",
    "import time\n",
    "\n",
    "start = time.time()\n",
    "knn_cv= cross_validate(knn, data, cv=5, return_train_measures=True)\n",
    "end = time.time()\n",
    "time_it_took_cv = end-start\n",
    "print('Time to run: ' + str(time_it_took_cv))"
   ]
  },
  {
   "cell_type": "code",
   "execution_count": 115,
   "id": "ff0629f0-c3c0-4716-808f-0184c9c4e6fe",
   "metadata": {},
   "outputs": [
    {
     "data": {
      "text/html": [
       "<div>\n",
       "<style scoped>\n",
       "    .dataframe tbody tr th:only-of-type {\n",
       "        vertical-align: middle;\n",
       "    }\n",
       "\n",
       "    .dataframe tbody tr th {\n",
       "        vertical-align: top;\n",
       "    }\n",
       "\n",
       "    .dataframe thead th {\n",
       "        text-align: right;\n",
       "    }\n",
       "</style>\n",
       "<table border=\"1\" class=\"dataframe\">\n",
       "  <thead>\n",
       "    <tr style=\"text-align: right;\">\n",
       "      <th></th>\n",
       "      <th>test_rmse</th>\n",
       "      <th>train_rmse</th>\n",
       "      <th>test_mae</th>\n",
       "      <th>train_mae</th>\n",
       "      <th>fit_time</th>\n",
       "      <th>test_time</th>\n",
       "    </tr>\n",
       "    <tr>\n",
       "      <th>Fold</th>\n",
       "      <th></th>\n",
       "      <th></th>\n",
       "      <th></th>\n",
       "      <th></th>\n",
       "      <th></th>\n",
       "      <th></th>\n",
       "    </tr>\n",
       "  </thead>\n",
       "  <tbody>\n",
       "    <tr>\n",
       "      <th>1</th>\n",
       "      <td>0.914301</td>\n",
       "      <td>0.515958</td>\n",
       "      <td>0.688840</td>\n",
       "      <td>0.384942</td>\n",
       "      <td>4.232399</td>\n",
       "      <td>7.791834</td>\n",
       "    </tr>\n",
       "    <tr>\n",
       "      <th>3</th>\n",
       "      <td>0.915523</td>\n",
       "      <td>0.515861</td>\n",
       "      <td>0.689422</td>\n",
       "      <td>0.384880</td>\n",
       "      <td>4.782850</td>\n",
       "      <td>7.463417</td>\n",
       "    </tr>\n",
       "    <tr>\n",
       "      <th>4</th>\n",
       "      <td>0.915692</td>\n",
       "      <td>0.516094</td>\n",
       "      <td>0.688284</td>\n",
       "      <td>0.385183</td>\n",
       "      <td>4.587320</td>\n",
       "      <td>7.479719</td>\n",
       "    </tr>\n",
       "    <tr>\n",
       "      <th>2</th>\n",
       "      <td>0.917641</td>\n",
       "      <td>0.515821</td>\n",
       "      <td>0.690614</td>\n",
       "      <td>0.384849</td>\n",
       "      <td>4.429986</td>\n",
       "      <td>8.228285</td>\n",
       "    </tr>\n",
       "    <tr>\n",
       "      <th>5</th>\n",
       "      <td>0.918315</td>\n",
       "      <td>0.516225</td>\n",
       "      <td>0.691128</td>\n",
       "      <td>0.385273</td>\n",
       "      <td>4.484810</td>\n",
       "      <td>7.931176</td>\n",
       "    </tr>\n",
       "  </tbody>\n",
       "</table>\n",
       "</div>"
      ],
      "text/plain": [
       "      test_rmse  train_rmse  test_mae  train_mae  fit_time  test_time\n",
       "Fold                                                                 \n",
       "1      0.914301    0.515958  0.688840   0.384942  4.232399   7.791834\n",
       "3      0.915523    0.515861  0.689422   0.384880  4.782850   7.463417\n",
       "4      0.915692    0.516094  0.688284   0.385183  4.587320   7.479719\n",
       "2      0.917641    0.515821  0.690614   0.384849  4.429986   8.228285\n",
       "5      0.918315    0.516225  0.691128   0.385273  4.484810   7.931176"
      ]
     },
     "execution_count": 115,
     "metadata": {},
     "output_type": "execute_result"
    }
   ],
   "source": [
    "knn_cv_df = pd.DataFrame.from_dict(knn_cv)\n",
    "folds = [1,2,3,4,5]\n",
    "knn_cv_df = knn_cv_df.assign(Fold = folds)\n",
    "knn_cv_df = knn_cv_df.set_index('Fold').sort_values(by=['test_rmse'])\n",
    "knn_cv_df"
   ]
  },
  {
   "cell_type": "code",
   "execution_count": 116,
   "id": "d748c2ab-c7c3-4b1e-9ddb-33786265395d",
   "metadata": {},
   "outputs": [
    {
     "name": "stdout",
     "output_type": "stream",
     "text": [
      "KNN Baseline's best performance: 0.914300500291923\n"
     ]
    }
   ],
   "source": [
    "print(\"KNN Baseline's best performance: \" + str(knn_cv_df['test_rmse'].min()))"
   ]
  },
  {
   "cell_type": "markdown",
   "id": "5ade58e1-829e-4acc-987b-1f7f8524bfa0",
   "metadata": {},
   "source": [
    "## Second Model - Matrix Factorisation-Based Method"
   ]
  },
  {
   "cell_type": "markdown",
   "id": "1ee4632c-0488-41e1-86c6-4df04649043c",
   "metadata": {},
   "source": [
    "## Matrix factorization-based algorithm selection\n",
    "\n",
    "Firstly, we selected all 3 matrix factorization-based algorithms from the surprise package document, which are SVD, SVDpp, NMF. Secondly, we tested these 3 algorithms using a limited dataset and default hyper-parameters. SVD took 3.35 minutes with the best test rmse 0.9148, SVDpp took 6.52 minutes with the best test rmse 0.8954, NMF took 4.28 minutes with the best test rmse 0.9949. We decided to use the SVD algorithm, because SVDpp’s performance is only slightly better than SVD, but it took much longer time, NMF’s performance is worse than SVD and took longer time.\n"
   ]
  },
  {
   "cell_type": "code",
   "execution_count": 49,
   "id": "1997a18c-f0c4-4acb-b294-7822e852932e",
   "metadata": {},
   "outputs": [
    {
     "name": "stdout",
     "output_type": "stream",
     "text": [
      "Time to run: 201.46788334846497\n"
     ]
    }
   ],
   "source": [
    "# part 1 algorithm selection\n",
    "\n",
    "# SVD\n",
    "\n",
    "start = time.time()\n",
    "svd_as = cross_validate(SVD(),data, cv=5 , return_train_measures = True)\n",
    "end = time.time()\n",
    "time_it_took_svd = end-start\n",
    "print('Time to run: ' + str(time_it_took_svd))"
   ]
  },
  {
   "cell_type": "code",
   "execution_count": 50,
   "id": "6a700550-de72-477d-86c9-59d6513213bd",
   "metadata": {},
   "outputs": [
    {
     "data": {
      "text/html": [
       "<div>\n",
       "<style scoped>\n",
       "    .dataframe tbody tr th:only-of-type {\n",
       "        vertical-align: middle;\n",
       "    }\n",
       "\n",
       "    .dataframe tbody tr th {\n",
       "        vertical-align: top;\n",
       "    }\n",
       "\n",
       "    .dataframe thead th {\n",
       "        text-align: right;\n",
       "    }\n",
       "</style>\n",
       "<table border=\"1\" class=\"dataframe\">\n",
       "  <thead>\n",
       "    <tr style=\"text-align: right;\">\n",
       "      <th></th>\n",
       "      <th>test_rmse</th>\n",
       "      <th>train_rmse</th>\n",
       "      <th>test_mae</th>\n",
       "      <th>train_mae</th>\n",
       "      <th>fit_time</th>\n",
       "      <th>test_time</th>\n",
       "    </tr>\n",
       "    <tr>\n",
       "      <th>Fold</th>\n",
       "      <th></th>\n",
       "      <th></th>\n",
       "      <th></th>\n",
       "      <th></th>\n",
       "      <th></th>\n",
       "      <th></th>\n",
       "    </tr>\n",
       "  </thead>\n",
       "  <tbody>\n",
       "    <tr>\n",
       "      <th>4</th>\n",
       "      <td>0.914670</td>\n",
       "      <td>0.642009</td>\n",
       "      <td>0.706795</td>\n",
       "      <td>0.497180</td>\n",
       "      <td>15.315280</td>\n",
       "      <td>4.437111</td>\n",
       "    </tr>\n",
       "    <tr>\n",
       "      <th>3</th>\n",
       "      <td>0.915224</td>\n",
       "      <td>0.643279</td>\n",
       "      <td>0.706928</td>\n",
       "      <td>0.497958</td>\n",
       "      <td>15.379680</td>\n",
       "      <td>4.145399</td>\n",
       "    </tr>\n",
       "    <tr>\n",
       "      <th>5</th>\n",
       "      <td>0.916910</td>\n",
       "      <td>0.643106</td>\n",
       "      <td>0.707211</td>\n",
       "      <td>0.497258</td>\n",
       "      <td>15.718511</td>\n",
       "      <td>3.606954</td>\n",
       "    </tr>\n",
       "    <tr>\n",
       "      <th>2</th>\n",
       "      <td>0.917481</td>\n",
       "      <td>0.642120</td>\n",
       "      <td>0.708643</td>\n",
       "      <td>0.497535</td>\n",
       "      <td>15.458980</td>\n",
       "      <td>4.343551</td>\n",
       "    </tr>\n",
       "    <tr>\n",
       "      <th>1</th>\n",
       "      <td>0.918515</td>\n",
       "      <td>0.641404</td>\n",
       "      <td>0.709158</td>\n",
       "      <td>0.495851</td>\n",
       "      <td>14.976897</td>\n",
       "      <td>5.156003</td>\n",
       "    </tr>\n",
       "  </tbody>\n",
       "</table>\n",
       "</div>"
      ],
      "text/plain": [
       "      test_rmse  train_rmse  test_mae  train_mae   fit_time  test_time\n",
       "Fold                                                                  \n",
       "4      0.914670    0.642009  0.706795   0.497180  15.315280   4.437111\n",
       "3      0.915224    0.643279  0.706928   0.497958  15.379680   4.145399\n",
       "5      0.916910    0.643106  0.707211   0.497258  15.718511   3.606954\n",
       "2      0.917481    0.642120  0.708643   0.497535  15.458980   4.343551\n",
       "1      0.918515    0.641404  0.709158   0.495851  14.976897   5.156003"
      ]
     },
     "execution_count": 50,
     "metadata": {},
     "output_type": "execute_result"
    }
   ],
   "source": [
    "svd_cv_df = pd.DataFrame.from_dict(svd_as)\n",
    "folds = [1,2,3,4,5]\n",
    "svd_cv_df = svd_cv_df.assign(Fold = folds)\n",
    "svd_cv_df = svd_cv_df.set_index('Fold').sort_values(by=['test_rmse'])\n",
    "svd_cv_df"
   ]
  },
  {
   "cell_type": "code",
   "execution_count": 51,
   "id": "f59f6cdb-5ffc-4894-9eea-b45e6e14fb43",
   "metadata": {},
   "outputs": [
    {
     "name": "stdout",
     "output_type": "stream",
     "text": [
      "Time to run: 391.9271340370178\n"
     ]
    }
   ],
   "source": [
    "# SVDpp\n",
    "\n",
    "start = time.time()\n",
    "svdpp_as = cross_validate(SVDpp(),data, cv=5 , return_train_measures = True)\n",
    "end = time.time()\n",
    "time_it_took_pp = end-start\n",
    "print('Time to run: ' + str(time_it_took_pp))"
   ]
  },
  {
   "cell_type": "code",
   "execution_count": 52,
   "id": "5381fa37-a17b-4a29-aae8-6c1a76e92f7f",
   "metadata": {},
   "outputs": [
    {
     "data": {
      "text/html": [
       "<div>\n",
       "<style scoped>\n",
       "    .dataframe tbody tr th:only-of-type {\n",
       "        vertical-align: middle;\n",
       "    }\n",
       "\n",
       "    .dataframe tbody tr th {\n",
       "        vertical-align: top;\n",
       "    }\n",
       "\n",
       "    .dataframe thead th {\n",
       "        text-align: right;\n",
       "    }\n",
       "</style>\n",
       "<table border=\"1\" class=\"dataframe\">\n",
       "  <thead>\n",
       "    <tr style=\"text-align: right;\">\n",
       "      <th></th>\n",
       "      <th>test_rmse</th>\n",
       "      <th>train_rmse</th>\n",
       "      <th>test_mae</th>\n",
       "      <th>train_mae</th>\n",
       "      <th>fit_time</th>\n",
       "      <th>test_time</th>\n",
       "    </tr>\n",
       "    <tr>\n",
       "      <th>Fold</th>\n",
       "      <th></th>\n",
       "      <th></th>\n",
       "      <th></th>\n",
       "      <th></th>\n",
       "      <th></th>\n",
       "      <th></th>\n",
       "    </tr>\n",
       "  </thead>\n",
       "  <tbody>\n",
       "    <tr>\n",
       "      <th>2</th>\n",
       "      <td>0.895419</td>\n",
       "      <td>0.624773</td>\n",
       "      <td>0.686207</td>\n",
       "      <td>0.476906</td>\n",
       "      <td>27.795355</td>\n",
       "      <td>10.438234</td>\n",
       "    </tr>\n",
       "    <tr>\n",
       "      <th>4</th>\n",
       "      <td>0.895562</td>\n",
       "      <td>0.625077</td>\n",
       "      <td>0.687279</td>\n",
       "      <td>0.477544</td>\n",
       "      <td>28.712260</td>\n",
       "      <td>9.866961</td>\n",
       "    </tr>\n",
       "    <tr>\n",
       "      <th>5</th>\n",
       "      <td>0.896354</td>\n",
       "      <td>0.623974</td>\n",
       "      <td>0.689538</td>\n",
       "      <td>0.478648</td>\n",
       "      <td>28.694185</td>\n",
       "      <td>9.726893</td>\n",
       "    </tr>\n",
       "    <tr>\n",
       "      <th>3</th>\n",
       "      <td>0.897857</td>\n",
       "      <td>0.624672</td>\n",
       "      <td>0.689046</td>\n",
       "      <td>0.477985</td>\n",
       "      <td>27.871529</td>\n",
       "      <td>9.213713</td>\n",
       "    </tr>\n",
       "    <tr>\n",
       "      <th>1</th>\n",
       "      <td>0.898839</td>\n",
       "      <td>0.624271</td>\n",
       "      <td>0.689968</td>\n",
       "      <td>0.478325</td>\n",
       "      <td>28.455654</td>\n",
       "      <td>9.604678</td>\n",
       "    </tr>\n",
       "  </tbody>\n",
       "</table>\n",
       "</div>"
      ],
      "text/plain": [
       "      test_rmse  train_rmse  test_mae  train_mae   fit_time  test_time\n",
       "Fold                                                                  \n",
       "2      0.895419    0.624773  0.686207   0.476906  27.795355  10.438234\n",
       "4      0.895562    0.625077  0.687279   0.477544  28.712260   9.866961\n",
       "5      0.896354    0.623974  0.689538   0.478648  28.694185   9.726893\n",
       "3      0.897857    0.624672  0.689046   0.477985  27.871529   9.213713\n",
       "1      0.898839    0.624271  0.689968   0.478325  28.455654   9.604678"
      ]
     },
     "execution_count": 52,
     "metadata": {},
     "output_type": "execute_result"
    }
   ],
   "source": [
    "svdpp_cv_df = pd.DataFrame.from_dict(svdpp_as)\n",
    "folds = [1,2,3,4,5]\n",
    "svdpp_cv_df = svdpp_cv_df.assign(Fold = folds)\n",
    "svdpp_cv_df = svdpp_cv_df.set_index('Fold').sort_values(by=['test_rmse'])\n",
    "svdpp_cv_df"
   ]
  },
  {
   "cell_type": "code",
   "execution_count": 53,
   "id": "c2c86d46-2c7b-4bdf-a1db-26a65f1cbf3d",
   "metadata": {},
   "outputs": [
    {
     "name": "stdout",
     "output_type": "stream",
     "text": [
      "Time to run: 256.9314925670624\n"
     ]
    }
   ],
   "source": [
    "# NMF\n",
    "\n",
    "start = time.time()\n",
    "nmf_as = cross_validate(NMF(),data, cv=5 , return_train_measures = True)\n",
    "end = time.time()\n",
    "time_it_took_nmf = end-start\n",
    "print('Time to run: ' + str(time_it_took_nmf))"
   ]
  },
  {
   "cell_type": "code",
   "execution_count": 54,
   "id": "e2f8cb3a-57ed-46a2-b580-60925b5041b0",
   "metadata": {},
   "outputs": [
    {
     "data": {
      "text/html": [
       "<div>\n",
       "<style scoped>\n",
       "    .dataframe tbody tr th:only-of-type {\n",
       "        vertical-align: middle;\n",
       "    }\n",
       "\n",
       "    .dataframe tbody tr th {\n",
       "        vertical-align: top;\n",
       "    }\n",
       "\n",
       "    .dataframe thead th {\n",
       "        text-align: right;\n",
       "    }\n",
       "</style>\n",
       "<table border=\"1\" class=\"dataframe\">\n",
       "  <thead>\n",
       "    <tr style=\"text-align: right;\">\n",
       "      <th></th>\n",
       "      <th>test_rmse</th>\n",
       "      <th>train_rmse</th>\n",
       "      <th>test_mae</th>\n",
       "      <th>train_mae</th>\n",
       "      <th>fit_time</th>\n",
       "      <th>test_time</th>\n",
       "    </tr>\n",
       "    <tr>\n",
       "      <th>Fold</th>\n",
       "      <th></th>\n",
       "      <th></th>\n",
       "      <th></th>\n",
       "      <th></th>\n",
       "      <th></th>\n",
       "      <th></th>\n",
       "    </tr>\n",
       "  </thead>\n",
       "  <tbody>\n",
       "    <tr>\n",
       "      <th>3</th>\n",
       "      <td>0.994863</td>\n",
       "      <td>0.540448</td>\n",
       "      <td>0.762312</td>\n",
       "      <td>0.389254</td>\n",
       "      <td>28.066735</td>\n",
       "      <td>3.528540</td>\n",
       "    </tr>\n",
       "    <tr>\n",
       "      <th>5</th>\n",
       "      <td>0.996441</td>\n",
       "      <td>0.542619</td>\n",
       "      <td>0.763289</td>\n",
       "      <td>0.391693</td>\n",
       "      <td>28.672009</td>\n",
       "      <td>3.745545</td>\n",
       "    </tr>\n",
       "    <tr>\n",
       "      <th>1</th>\n",
       "      <td>0.996527</td>\n",
       "      <td>0.540857</td>\n",
       "      <td>0.763359</td>\n",
       "      <td>0.389604</td>\n",
       "      <td>28.034776</td>\n",
       "      <td>3.970182</td>\n",
       "    </tr>\n",
       "    <tr>\n",
       "      <th>2</th>\n",
       "      <td>0.996639</td>\n",
       "      <td>0.536995</td>\n",
       "      <td>0.765158</td>\n",
       "      <td>0.388385</td>\n",
       "      <td>30.412653</td>\n",
       "      <td>4.983305</td>\n",
       "    </tr>\n",
       "    <tr>\n",
       "      <th>4</th>\n",
       "      <td>1.001741</td>\n",
       "      <td>0.541598</td>\n",
       "      <td>0.768894</td>\n",
       "      <td>0.390157</td>\n",
       "      <td>28.115631</td>\n",
       "      <td>3.070997</td>\n",
       "    </tr>\n",
       "  </tbody>\n",
       "</table>\n",
       "</div>"
      ],
      "text/plain": [
       "      test_rmse  train_rmse  test_mae  train_mae   fit_time  test_time\n",
       "Fold                                                                  \n",
       "3      0.994863    0.540448  0.762312   0.389254  28.066735   3.528540\n",
       "5      0.996441    0.542619  0.763289   0.391693  28.672009   3.745545\n",
       "1      0.996527    0.540857  0.763359   0.389604  28.034776   3.970182\n",
       "2      0.996639    0.536995  0.765158   0.388385  30.412653   4.983305\n",
       "4      1.001741    0.541598  0.768894   0.390157  28.115631   3.070997"
      ]
     },
     "execution_count": 54,
     "metadata": {},
     "output_type": "execute_result"
    }
   ],
   "source": [
    "nmf_cv_df = pd.DataFrame.from_dict(nmf_as)\n",
    "folds = [1,2,3,4,5]\n",
    "nmf_cv_df = nmf_cv_df.assign(Fold = folds)\n",
    "nmf_cv_df = nmf_cv_df.set_index('Fold').sort_values(by=['test_rmse'])\n",
    "nmf_cv_df"
   ]
  },
  {
   "cell_type": "code",
   "execution_count": 55,
   "id": "fdba6f54-e55e-450a-bb81-8c8bb39dcf3f",
   "metadata": {},
   "outputs": [
    {
     "data": {
      "text/html": [
       "<div>\n",
       "<style scoped>\n",
       "    .dataframe tbody tr th:only-of-type {\n",
       "        vertical-align: middle;\n",
       "    }\n",
       "\n",
       "    .dataframe tbody tr th {\n",
       "        vertical-align: top;\n",
       "    }\n",
       "\n",
       "    .dataframe thead th {\n",
       "        text-align: right;\n",
       "    }\n",
       "</style>\n",
       "<table border=\"1\" class=\"dataframe\">\n",
       "  <thead>\n",
       "    <tr style=\"text-align: right;\">\n",
       "      <th></th>\n",
       "      <th>test_rmse</th>\n",
       "      <th>train_rmse</th>\n",
       "      <th>test_mae</th>\n",
       "      <th>train_mae</th>\n",
       "      <th>fit_time</th>\n",
       "      <th>test_time</th>\n",
       "    </tr>\n",
       "    <tr>\n",
       "      <th>Model</th>\n",
       "      <th></th>\n",
       "      <th></th>\n",
       "      <th></th>\n",
       "      <th></th>\n",
       "      <th></th>\n",
       "      <th></th>\n",
       "    </tr>\n",
       "  </thead>\n",
       "  <tbody>\n",
       "    <tr>\n",
       "      <th>SVD pp</th>\n",
       "      <td>0.895419</td>\n",
       "      <td>0.624773</td>\n",
       "      <td>0.686207</td>\n",
       "      <td>0.476906</td>\n",
       "      <td>27.795355</td>\n",
       "      <td>10.438234</td>\n",
       "    </tr>\n",
       "    <tr>\n",
       "      <th>SVD</th>\n",
       "      <td>0.914670</td>\n",
       "      <td>0.642009</td>\n",
       "      <td>0.706795</td>\n",
       "      <td>0.497180</td>\n",
       "      <td>15.315280</td>\n",
       "      <td>4.437111</td>\n",
       "    </tr>\n",
       "    <tr>\n",
       "      <th>NMF</th>\n",
       "      <td>0.994863</td>\n",
       "      <td>0.540448</td>\n",
       "      <td>0.762312</td>\n",
       "      <td>0.389254</td>\n",
       "      <td>28.066735</td>\n",
       "      <td>3.528540</td>\n",
       "    </tr>\n",
       "  </tbody>\n",
       "</table>\n",
       "</div>"
      ],
      "text/plain": [
       "        test_rmse  train_rmse  test_mae  train_mae   fit_time  test_time\n",
       "Model                                                                   \n",
       "SVD pp   0.895419    0.624773  0.686207   0.476906  27.795355  10.438234\n",
       "SVD      0.914670    0.642009  0.706795   0.497180  15.315280   4.437111\n",
       "NMF      0.994863    0.540448  0.762312   0.389254  28.066735   3.528540"
      ]
     },
     "metadata": {},
     "output_type": "display_data"
    }
   ],
   "source": [
    "best_mf_models_df = pd.DataFrame()\n",
    "best_mf_models_df = best_mf_models_df.append([svd_cv_df.iloc[0], svdpp_cv_df.iloc[0], nmf_cv_df.iloc[0]])\n",
    "models = ['SVD','SVD pp','NMF']\n",
    "best_mf_models_df = best_mf_models_df.assign(Model=models).set_index('Model').sort_values(by=['test_rmse'])\n",
    "display(best_mf_models_df)"
   ]
  },
  {
   "cell_type": "markdown",
   "id": "09642e32-ce2d-4f88-bce2-3a00b20879a5",
   "metadata": {},
   "source": [
    "## SVD model hyper-parameter tuning:\n",
    "\n",
    "Motivation:\n",
    "We found one reference paper to help on hyper parameter tuning (resource: https://arxiv.org/abs/1710.00482). According to this research paper, we selected the number of epochs and learning rate for hyper parameter tuning . This research paper pointed out that when the number of  epochs changes from 10 to 20, the rmse decreases dramatically, after 30 the rmse only slightly increases. Therefore, we set the list of the number of epochs as 5, 10, 20, 30. For learning rate, the recommended learning rate is 0.005, based on this number ,we set the list of learning rate as 0.0025, 0.005, 0.001, 0.01.\n",
    "\n",
    "Tuning output:\n",
    "After running the SVD hyper-parameter tuning with the top-250 data and randomized search method, the best hyper-parameter combination is 30 epochs and 0.01 learning rate with the best rmse stands for 0.9125, which took 3.9 minutes.\n",
    "\n"
   ]
  },
  {
   "cell_type": "code",
   "execution_count": 56,
   "id": "b79fd0e0-e498-46a6-b833-33e1ca060bf9",
   "metadata": {},
   "outputs": [],
   "source": [
    "# hyper-parameter tuning\n",
    "\n",
    "parameterset = {'n_epochs': [5, 10, 20, 30],  # refer paper pointed out epoch change from 10 to 20, the rmse decreases dramatically, after 30 epoch the difference of rmse is small.  \n",
    "        'lr_all': [.0025, .005, .001, .01]} # recommendation of learning rate is 0.005, we set up a group of learning rate basing on 0.005 to test the best learning rate"
   ]
  },
  {
   "cell_type": "code",
   "execution_count": 57,
   "id": "2449859b-a99a-47a6-9472-37f74c2b2672",
   "metadata": {},
   "outputs": [],
   "source": [
    "svd_tune = RandomizedSearchCV(SVD, parameterset, cv=5, return_train_measures=True)\n",
    "svd_tune.fit(data)"
   ]
  },
  {
   "cell_type": "code",
   "execution_count": 58,
   "id": "3130dc1a-ce0c-4d1e-b72a-160acc00b901",
   "metadata": {},
   "outputs": [
    {
     "data": {
      "text/html": [
       "<div>\n",
       "<style scoped>\n",
       "    .dataframe tbody tr th:only-of-type {\n",
       "        vertical-align: middle;\n",
       "    }\n",
       "\n",
       "    .dataframe tbody tr th {\n",
       "        vertical-align: top;\n",
       "    }\n",
       "\n",
       "    .dataframe thead th {\n",
       "        text-align: right;\n",
       "    }\n",
       "</style>\n",
       "<table border=\"1\" class=\"dataframe\">\n",
       "  <thead>\n",
       "    <tr style=\"text-align: right;\">\n",
       "      <th></th>\n",
       "      <th>mean_test_rmse</th>\n",
       "      <th>mean_train_rmse</th>\n",
       "      <th>mean_test_mae</th>\n",
       "      <th>mean_train_mae</th>\n",
       "      <th>mean_fit_time</th>\n",
       "      <th>mean_test_time</th>\n",
       "      <th>params</th>\n",
       "    </tr>\n",
       "    <tr>\n",
       "      <th>Model</th>\n",
       "      <th></th>\n",
       "      <th></th>\n",
       "      <th></th>\n",
       "      <th></th>\n",
       "      <th></th>\n",
       "      <th></th>\n",
       "      <th></th>\n",
       "    </tr>\n",
       "  </thead>\n",
       "  <tbody>\n",
       "    <tr>\n",
       "      <th>SVD</th>\n",
       "      <td>0.915053</td>\n",
       "      <td>0.252089</td>\n",
       "      <td>0.700999</td>\n",
       "      <td>0.189925</td>\n",
       "      <td>21.366019</td>\n",
       "      <td>4.466404</td>\n",
       "      <td>{'n_epochs': 30, 'lr_all': 0.01}</td>\n",
       "    </tr>\n",
       "    <tr>\n",
       "      <th>SVD</th>\n",
       "      <td>0.917369</td>\n",
       "      <td>0.641799</td>\n",
       "      <td>0.708382</td>\n",
       "      <td>0.496825</td>\n",
       "      <td>15.003116</td>\n",
       "      <td>5.701776</td>\n",
       "      <td>{'n_epochs': 20, 'lr_all': 0.005}</td>\n",
       "    </tr>\n",
       "    <tr>\n",
       "      <th>SVD</th>\n",
       "      <td>0.918915</td>\n",
       "      <td>0.657906</td>\n",
       "      <td>0.709301</td>\n",
       "      <td>0.508915</td>\n",
       "      <td>7.210301</td>\n",
       "      <td>4.282594</td>\n",
       "      <td>{'n_epochs': 10, 'lr_all': 0.01}</td>\n",
       "    </tr>\n",
       "    <tr>\n",
       "      <th>SVD</th>\n",
       "      <td>0.919068</td>\n",
       "      <td>0.740907</td>\n",
       "      <td>0.712478</td>\n",
       "      <td>0.577319</td>\n",
       "      <td>21.171579</td>\n",
       "      <td>4.914808</td>\n",
       "      <td>{'n_epochs': 30, 'lr_all': 0.0025}</td>\n",
       "    </tr>\n",
       "    <tr>\n",
       "      <th>SVD</th>\n",
       "      <td>0.928614</td>\n",
       "      <td>0.839631</td>\n",
       "      <td>0.722581</td>\n",
       "      <td>0.655368</td>\n",
       "      <td>14.536611</td>\n",
       "      <td>5.517920</td>\n",
       "      <td>{'n_epochs': 20, 'lr_all': 0.0025}</td>\n",
       "    </tr>\n",
       "    <tr>\n",
       "      <th>SVD</th>\n",
       "      <td>0.940536</td>\n",
       "      <td>0.894586</td>\n",
       "      <td>0.733292</td>\n",
       "      <td>0.698258</td>\n",
       "      <td>21.145339</td>\n",
       "      <td>4.603142</td>\n",
       "      <td>{'n_epochs': 30, 'lr_all': 0.001}</td>\n",
       "    </tr>\n",
       "    <tr>\n",
       "      <th>SVD</th>\n",
       "      <td>0.948118</td>\n",
       "      <td>0.911918</td>\n",
       "      <td>0.738826</td>\n",
       "      <td>0.711170</td>\n",
       "      <td>3.926956</td>\n",
       "      <td>4.511291</td>\n",
       "      <td>{'n_epochs': 5, 'lr_all': 0.005}</td>\n",
       "    </tr>\n",
       "    <tr>\n",
       "      <th>SVD</th>\n",
       "      <td>0.950128</td>\n",
       "      <td>0.919744</td>\n",
       "      <td>0.741322</td>\n",
       "      <td>0.717986</td>\n",
       "      <td>14.312119</td>\n",
       "      <td>4.569597</td>\n",
       "      <td>{'n_epochs': 20, 'lr_all': 0.001}</td>\n",
       "    </tr>\n",
       "    <tr>\n",
       "      <th>SVD</th>\n",
       "      <td>0.963401</td>\n",
       "      <td>0.946526</td>\n",
       "      <td>0.752193</td>\n",
       "      <td>0.739180</td>\n",
       "      <td>9.022463</td>\n",
       "      <td>5.766630</td>\n",
       "      <td>{'n_epochs': 10, 'lr_all': 0.001}</td>\n",
       "    </tr>\n",
       "    <tr>\n",
       "      <th>SVD</th>\n",
       "      <td>0.972349</td>\n",
       "      <td>0.962441</td>\n",
       "      <td>0.759351</td>\n",
       "      <td>0.751732</td>\n",
       "      <td>3.867093</td>\n",
       "      <td>4.564126</td>\n",
       "      <td>{'n_epochs': 5, 'lr_all': 0.001}</td>\n",
       "    </tr>\n",
       "  </tbody>\n",
       "</table>\n",
       "</div>"
      ],
      "text/plain": [
       "       mean_test_rmse  mean_train_rmse  mean_test_mae  mean_train_mae  \\\n",
       "Model                                                                   \n",
       "SVD          0.915053         0.252089       0.700999        0.189925   \n",
       "SVD          0.917369         0.641799       0.708382        0.496825   \n",
       "SVD          0.918915         0.657906       0.709301        0.508915   \n",
       "SVD          0.919068         0.740907       0.712478        0.577319   \n",
       "SVD          0.928614         0.839631       0.722581        0.655368   \n",
       "SVD          0.940536         0.894586       0.733292        0.698258   \n",
       "SVD          0.948118         0.911918       0.738826        0.711170   \n",
       "SVD          0.950128         0.919744       0.741322        0.717986   \n",
       "SVD          0.963401         0.946526       0.752193        0.739180   \n",
       "SVD          0.972349         0.962441       0.759351        0.751732   \n",
       "\n",
       "       mean_fit_time  mean_test_time                              params  \n",
       "Model                                                                     \n",
       "SVD        21.366019        4.466404    {'n_epochs': 30, 'lr_all': 0.01}  \n",
       "SVD        15.003116        5.701776   {'n_epochs': 20, 'lr_all': 0.005}  \n",
       "SVD         7.210301        4.282594    {'n_epochs': 10, 'lr_all': 0.01}  \n",
       "SVD        21.171579        4.914808  {'n_epochs': 30, 'lr_all': 0.0025}  \n",
       "SVD        14.536611        5.517920  {'n_epochs': 20, 'lr_all': 0.0025}  \n",
       "SVD        21.145339        4.603142   {'n_epochs': 30, 'lr_all': 0.001}  \n",
       "SVD         3.926956        4.511291    {'n_epochs': 5, 'lr_all': 0.005}  \n",
       "SVD        14.312119        4.569597   {'n_epochs': 20, 'lr_all': 0.001}  \n",
       "SVD         9.022463        5.766630   {'n_epochs': 10, 'lr_all': 0.001}  \n",
       "SVD         3.867093        4.564126    {'n_epochs': 5, 'lr_all': 0.001}  "
      ]
     },
     "execution_count": 58,
     "metadata": {},
     "output_type": "execute_result"
    }
   ],
   "source": [
    "svd_hp = pd.DataFrame.from_dict(svd_tune.cv_results)\n",
    "svd_hp = svd_hp[['mean_test_rmse', 'mean_train_rmse', 'mean_test_mae', 'mean_train_mae', \n",
    "                   'mean_fit_time', 'mean_test_time', 'params']]\n",
    "label = ['SVD']*svd_hp.shape[0]\n",
    "svd_hp = svd_hp.assign(Model = label).set_index('Model')\n",
    "svd_hp = svd_hp.sort_values('mean_test_rmse')\n",
    "svd_hp"
   ]
  },
  {
   "cell_type": "code",
   "execution_count": 59,
   "id": "1090e7d0-b00d-4869-b715-b70d33c3e7db",
   "metadata": {},
   "outputs": [
    {
     "name": "stdout",
     "output_type": "stream",
     "text": [
      "Best sore: 0.9150528018831035\n",
      "Best params: {'n_epochs': 30, 'lr_all': 0.01}\n"
     ]
    }
   ],
   "source": [
    "best_svd_hp = svd_hp.iloc[0]\n",
    "best_score = best_svd_hp['mean_test_rmse']\n",
    "print('Best sore: ' + str(best_score))\n",
    "best_params = best_svd_hp['params']\n",
    "print('Best params: ' + str(best_params))"
   ]
  },
  {
   "cell_type": "code",
   "execution_count": 60,
   "id": "c3aea919-3723-4d5b-9ad2-d89d1cbd89cd",
   "metadata": {},
   "outputs": [
    {
     "name": "stdout",
     "output_type": "stream",
     "text": [
      "Optimal number of epochs: 30\n",
      "Optimal learning rate for all parameters: 0.01\n"
     ]
    }
   ],
   "source": [
    "n_epochs = best_params['n_epochs']\n",
    "print('Optimal number of epochs: ' + str(n_epochs))\n",
    "lr_all = best_params['lr_all']\n",
    "print('Optimal learning rate for all parameters: ' + str(lr_all))"
   ]
  },
  {
   "cell_type": "code",
   "execution_count": 61,
   "id": "da28c6e3-b6f0-4bf8-9862-e59cf8bf1c37",
   "metadata": {},
   "outputs": [
    {
     "name": "stdout",
     "output_type": "stream",
     "text": [
      "Time to run: 233.69311809539795\n"
     ]
    }
   ],
   "source": [
    "# Cross validation with tuned SVD model\n",
    "import time\n",
    "\n",
    "start = time.time()\n",
    "svd_cv= cross_validate(SVD(n_epochs=n_epochs, lr_all=lr_all), data, cv=5, return_train_measures=True)\n",
    "end = time.time()\n",
    "time_it_took_cv = end-start\n",
    "print('Time to run: ' + str(time_it_took_cv))"
   ]
  },
  {
   "cell_type": "code",
   "execution_count": 62,
   "id": "ba0ca006-b713-4453-9a91-6de554f1b565",
   "metadata": {},
   "outputs": [
    {
     "data": {
      "text/html": [
       "<div>\n",
       "<style scoped>\n",
       "    .dataframe tbody tr th:only-of-type {\n",
       "        vertical-align: middle;\n",
       "    }\n",
       "\n",
       "    .dataframe tbody tr th {\n",
       "        vertical-align: top;\n",
       "    }\n",
       "\n",
       "    .dataframe thead th {\n",
       "        text-align: right;\n",
       "    }\n",
       "</style>\n",
       "<table border=\"1\" class=\"dataframe\">\n",
       "  <thead>\n",
       "    <tr style=\"text-align: right;\">\n",
       "      <th></th>\n",
       "      <th>test_rmse</th>\n",
       "      <th>train_rmse</th>\n",
       "      <th>test_mae</th>\n",
       "      <th>train_mae</th>\n",
       "      <th>fit_time</th>\n",
       "      <th>test_time</th>\n",
       "    </tr>\n",
       "    <tr>\n",
       "      <th>Fold</th>\n",
       "      <th></th>\n",
       "      <th></th>\n",
       "      <th></th>\n",
       "      <th></th>\n",
       "      <th></th>\n",
       "      <th></th>\n",
       "    </tr>\n",
       "  </thead>\n",
       "  <tbody>\n",
       "    <tr>\n",
       "      <th>5</th>\n",
       "      <td>0.912494</td>\n",
       "      <td>0.254106</td>\n",
       "      <td>0.699368</td>\n",
       "      <td>0.191167</td>\n",
       "      <td>22.332648</td>\n",
       "      <td>3.701203</td>\n",
       "    </tr>\n",
       "    <tr>\n",
       "      <th>1</th>\n",
       "      <td>0.913596</td>\n",
       "      <td>0.252138</td>\n",
       "      <td>0.699840</td>\n",
       "      <td>0.189521</td>\n",
       "      <td>22.016915</td>\n",
       "      <td>5.040142</td>\n",
       "    </tr>\n",
       "    <tr>\n",
       "      <th>4</th>\n",
       "      <td>0.914483</td>\n",
       "      <td>0.252735</td>\n",
       "      <td>0.700847</td>\n",
       "      <td>0.190419</td>\n",
       "      <td>22.267496</td>\n",
       "      <td>4.750336</td>\n",
       "    </tr>\n",
       "    <tr>\n",
       "      <th>3</th>\n",
       "      <td>0.916405</td>\n",
       "      <td>0.253789</td>\n",
       "      <td>0.702177</td>\n",
       "      <td>0.191472</td>\n",
       "      <td>22.080474</td>\n",
       "      <td>3.755780</td>\n",
       "    </tr>\n",
       "    <tr>\n",
       "      <th>2</th>\n",
       "      <td>0.916670</td>\n",
       "      <td>0.251567</td>\n",
       "      <td>0.702834</td>\n",
       "      <td>0.189838</td>\n",
       "      <td>22.352987</td>\n",
       "      <td>4.519484</td>\n",
       "    </tr>\n",
       "  </tbody>\n",
       "</table>\n",
       "</div>"
      ],
      "text/plain": [
       "      test_rmse  train_rmse  test_mae  train_mae   fit_time  test_time\n",
       "Fold                                                                  \n",
       "5      0.912494    0.254106  0.699368   0.191167  22.332648   3.701203\n",
       "1      0.913596    0.252138  0.699840   0.189521  22.016915   5.040142\n",
       "4      0.914483    0.252735  0.700847   0.190419  22.267496   4.750336\n",
       "3      0.916405    0.253789  0.702177   0.191472  22.080474   3.755780\n",
       "2      0.916670    0.251567  0.702834   0.189838  22.352987   4.519484"
      ]
     },
     "execution_count": 62,
     "metadata": {},
     "output_type": "execute_result"
    }
   ],
   "source": [
    "svd_cv_df = pd.DataFrame.from_dict(svd_cv)\n",
    "folds = [1,2,3,4,5]\n",
    "svd_cv_df = svd_cv_df.assign(Fold = folds)\n",
    "svd_cv_df = svd_cv_df.set_index('Fold').sort_values(by=['test_rmse'])\n",
    "svd_cv_df"
   ]
  },
  {
   "cell_type": "code",
   "execution_count": 63,
   "id": "f7e7e1bd-9f65-4101-a856-53fd10f19449",
   "metadata": {},
   "outputs": [
    {
     "name": "stdout",
     "output_type": "stream",
     "text": [
      "SVD model's best performance: 0.9124944831009787\n"
     ]
    }
   ],
   "source": [
    "print(\"SVD model's best performance: \" + str(svd_cv_df['test_rmse'].min()))"
   ]
  },
  {
   "cell_type": "markdown",
   "id": "7adf9c7f-f9e2-4e0a-8f9c-03f1c0a45e63",
   "metadata": {
    "tags": []
   },
   "source": [
    "## Summary of the best model results"
   ]
  },
  {
   "cell_type": "code",
   "execution_count": 117,
   "id": "2fdec31c-d2c8-4850-ba30-623c878732f0",
   "metadata": {},
   "outputs": [
    {
     "data": {
      "text/html": [
       "<div>\n",
       "<style scoped>\n",
       "    .dataframe tbody tr th:only-of-type {\n",
       "        vertical-align: middle;\n",
       "    }\n",
       "\n",
       "    .dataframe tbody tr th {\n",
       "        vertical-align: top;\n",
       "    }\n",
       "\n",
       "    .dataframe thead th {\n",
       "        text-align: right;\n",
       "    }\n",
       "</style>\n",
       "<table border=\"1\" class=\"dataframe\">\n",
       "  <thead>\n",
       "    <tr style=\"text-align: right;\">\n",
       "      <th></th>\n",
       "      <th>test_rmse</th>\n",
       "      <th>train_rmse</th>\n",
       "      <th>test_mae</th>\n",
       "      <th>train_mae</th>\n",
       "      <th>fit_time</th>\n",
       "      <th>test_time</th>\n",
       "    </tr>\n",
       "    <tr>\n",
       "      <th>Model</th>\n",
       "      <th></th>\n",
       "      <th></th>\n",
       "      <th></th>\n",
       "      <th></th>\n",
       "      <th></th>\n",
       "      <th></th>\n",
       "    </tr>\n",
       "  </thead>\n",
       "  <tbody>\n",
       "    <tr>\n",
       "      <th>SVD</th>\n",
       "      <td>0.912494</td>\n",
       "      <td>0.254106</td>\n",
       "      <td>0.699368</td>\n",
       "      <td>0.191167</td>\n",
       "      <td>22.332648</td>\n",
       "      <td>3.701203</td>\n",
       "    </tr>\n",
       "    <tr>\n",
       "      <th>KNN Baseline</th>\n",
       "      <td>0.914301</td>\n",
       "      <td>0.515958</td>\n",
       "      <td>0.688840</td>\n",
       "      <td>0.384942</td>\n",
       "      <td>4.232399</td>\n",
       "      <td>7.791834</td>\n",
       "    </tr>\n",
       "    <tr>\n",
       "      <th>Normal Predictor</th>\n",
       "      <td>1.428514</td>\n",
       "      <td>1.431515</td>\n",
       "      <td>1.132894</td>\n",
       "      <td>1.134789</td>\n",
       "      <td>2.221971</td>\n",
       "      <td>2.049284</td>\n",
       "    </tr>\n",
       "  </tbody>\n",
       "</table>\n",
       "</div>"
      ],
      "text/plain": [
       "                  test_rmse  train_rmse  test_mae  train_mae   fit_time  \\\n",
       "Model                                                                     \n",
       "SVD                0.912494    0.254106  0.699368   0.191167  22.332648   \n",
       "KNN Baseline       0.914301    0.515958  0.688840   0.384942   4.232399   \n",
       "Normal Predictor   1.428514    1.431515  1.132894   1.134789   2.221971   \n",
       "\n",
       "                  test_time  \n",
       "Model                        \n",
       "SVD                3.701203  \n",
       "KNN Baseline       7.791834  \n",
       "Normal Predictor   2.049284  "
      ]
     },
     "metadata": {},
     "output_type": "display_data"
    }
   ],
   "source": [
    "compare_best_models_df = pd.DataFrame()\n",
    "compare_best_models_df = compare_best_models_df.append([norm_pred.iloc[0], knn_cv_df.iloc[0], svd_cv_df.iloc[0]])\n",
    "models = ['Normal Predictor','KNN Baseline','SVD']\n",
    "compare_best_models_df = compare_best_models_df.assign(Model=models).set_index('Model').sort_values(by=['test_rmse'])\n",
    "display(compare_best_models_df)"
   ]
  },
  {
   "cell_type": "code",
   "execution_count": 118,
   "id": "4da17d3a-4cd4-4fa2-be63-9f586cd3ab57",
   "metadata": {},
   "outputs": [
    {
     "data": {
      "image/png": "[encoded data removed]",
      "text/plain": [
       "<Figure size 432x288 with 1 Axes>"
      ]
     },
     "metadata": {
      "needs_background": "light"
     },
     "output_type": "display_data"
    }
   ],
   "source": [
    "ax = compare_best_models_df[['test_rmse','test_mae']].plot()"
   ]
  }
 ],
 "metadata": {
  "kernelspec": {
   "display_name": "Python 3 (ipykernel)",
   "language": "python",
   "name": "python3"
  },
  "language_info": {
   "codemirror_mode": {
    "name": "ipython",
    "version": 3
   },
   "file_extension": ".py",
   "mimetype": "text/x-python",
   "name": "python",
   "nbconvert_exporter": "python",
   "pygments_lexer": "ipython3",
   "version": "3.9.12"
  }
 },
 "nbformat": 4,
 "nbformat_minor": 5
}
